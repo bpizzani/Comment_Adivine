{
 "cells": [
  {
   "cell_type": "code",
   "execution_count": 1,
   "metadata": {},
   "outputs": [
    {
     "name": "stdout",
     "output_type": "stream",
     "text": [
      "Requirement already satisfied: spacy in /home/ec2-user/anaconda3/envs/python3/lib/python3.6/site-packages (2.3.2)\n",
      "Requirement already satisfied: wasabi<1.1.0,>=0.4.0 in /home/ec2-user/anaconda3/envs/python3/lib/python3.6/site-packages (from spacy) (0.8.0)\n",
      "Requirement already satisfied: srsly<1.1.0,>=1.0.2 in /home/ec2-user/anaconda3/envs/python3/lib/python3.6/site-packages (from spacy) (1.0.2)\n",
      "Requirement already satisfied: plac<1.2.0,>=0.9.6 in /home/ec2-user/anaconda3/envs/python3/lib/python3.6/site-packages (from spacy) (1.1.3)\n",
      "Requirement already satisfied: blis<0.5.0,>=0.4.0 in /home/ec2-user/anaconda3/envs/python3/lib/python3.6/site-packages (from spacy) (0.4.1)\n",
      "Requirement already satisfied: setuptools in /home/ec2-user/anaconda3/envs/python3/lib/python3.6/site-packages (from spacy) (45.2.0.post20200210)\n",
      "Requirement already satisfied: preshed<3.1.0,>=3.0.2 in /home/ec2-user/anaconda3/envs/python3/lib/python3.6/site-packages (from spacy) (3.0.2)\n",
      "Requirement already satisfied: requests<3.0.0,>=2.13.0 in /home/ec2-user/anaconda3/envs/python3/lib/python3.6/site-packages (from spacy) (2.22.0)\n",
      "Requirement already satisfied: tqdm<5.0.0,>=4.38.0 in /home/ec2-user/anaconda3/envs/python3/lib/python3.6/site-packages (from spacy) (4.42.1)\n",
      "Requirement already satisfied: catalogue<1.1.0,>=0.0.7 in /home/ec2-user/anaconda3/envs/python3/lib/python3.6/site-packages (from spacy) (1.0.0)\n",
      "Requirement already satisfied: murmurhash<1.1.0,>=0.28.0 in /home/ec2-user/anaconda3/envs/python3/lib/python3.6/site-packages (from spacy) (1.0.2)\n",
      "Requirement already satisfied: thinc==7.4.1 in /home/ec2-user/anaconda3/envs/python3/lib/python3.6/site-packages (from spacy) (7.4.1)\n",
      "Requirement already satisfied: numpy>=1.15.0 in /home/ec2-user/anaconda3/envs/python3/lib/python3.6/site-packages (from spacy) (1.18.1)\n",
      "Requirement already satisfied: cymem<2.1.0,>=2.0.2 in /home/ec2-user/anaconda3/envs/python3/lib/python3.6/site-packages (from spacy) (2.0.3)\n",
      "Requirement already satisfied: urllib3!=1.25.0,!=1.25.1,<1.26,>=1.21.1 in /home/ec2-user/anaconda3/envs/python3/lib/python3.6/site-packages (from requests<3.0.0,>=2.13.0->spacy) (1.25.8)\n",
      "Requirement already satisfied: idna<2.9,>=2.5 in /home/ec2-user/anaconda3/envs/python3/lib/python3.6/site-packages (from requests<3.0.0,>=2.13.0->spacy) (2.8)\n",
      "Requirement already satisfied: chardet<3.1.0,>=3.0.2 in /home/ec2-user/anaconda3/envs/python3/lib/python3.6/site-packages (from requests<3.0.0,>=2.13.0->spacy) (3.0.4)\n",
      "Requirement already satisfied: certifi>=2017.4.17 in /home/ec2-user/anaconda3/envs/python3/lib/python3.6/site-packages (from requests<3.0.0,>=2.13.0->spacy) (2020.6.20)\n",
      "Requirement already satisfied: importlib-metadata>=0.20; python_version < \"3.8\" in /home/ec2-user/anaconda3/envs/python3/lib/python3.6/site-packages (from catalogue<1.1.0,>=0.0.7->spacy) (1.5.0)\n",
      "Requirement already satisfied: zipp>=0.5 in /home/ec2-user/anaconda3/envs/python3/lib/python3.6/site-packages (from importlib-metadata>=0.20; python_version < \"3.8\"->catalogue<1.1.0,>=0.0.7->spacy) (2.2.0)\n",
      "\u001b[33mWARNING: You are using pip version 20.0.2; however, version 20.2.4 is available.\n",
      "You should consider upgrading via the '/home/ec2-user/anaconda3/envs/python3/bin/python -m pip install --upgrade pip' command.\u001b[0m\n"
     ]
    }
   ],
   "source": [
    "!pip install spacy"
   ]
  },
  {
   "cell_type": "markdown",
   "metadata": {},
   "source": [
    "Download Spacy spanish package as our comments are in spanish and need to be preprocessed ussing spanish vocabulary"
   ]
  },
  {
   "cell_type": "code",
   "execution_count": 2,
   "metadata": {},
   "outputs": [
    {
     "name": "stdout",
     "output_type": "stream",
     "text": [
      "Requirement already satisfied: es_core_news_sm==2.3.1 from https://github.com/explosion/spacy-models/releases/download/es_core_news_sm-2.3.1/es_core_news_sm-2.3.1.tar.gz#egg=es_core_news_sm==2.3.1 in /home/ec2-user/anaconda3/envs/python3/lib/python3.6/site-packages (2.3.1)\n",
      "Requirement already satisfied: spacy<2.4.0,>=2.3.0 in /home/ec2-user/anaconda3/envs/python3/lib/python3.6/site-packages (from es_core_news_sm==2.3.1) (2.3.2)\n",
      "Requirement already satisfied: murmurhash<1.1.0,>=0.28.0 in /home/ec2-user/anaconda3/envs/python3/lib/python3.6/site-packages (from spacy<2.4.0,>=2.3.0->es_core_news_sm==2.3.1) (1.0.2)\n",
      "Requirement already satisfied: blis<0.5.0,>=0.4.0 in /home/ec2-user/anaconda3/envs/python3/lib/python3.6/site-packages (from spacy<2.4.0,>=2.3.0->es_core_news_sm==2.3.1) (0.4.1)\n",
      "Requirement already satisfied: plac<1.2.0,>=0.9.6 in /home/ec2-user/anaconda3/envs/python3/lib/python3.6/site-packages (from spacy<2.4.0,>=2.3.0->es_core_news_sm==2.3.1) (1.1.3)\n",
      "Requirement already satisfied: requests<3.0.0,>=2.13.0 in /home/ec2-user/anaconda3/envs/python3/lib/python3.6/site-packages (from spacy<2.4.0,>=2.3.0->es_core_news_sm==2.3.1) (2.22.0)\n",
      "Requirement already satisfied: preshed<3.1.0,>=3.0.2 in /home/ec2-user/anaconda3/envs/python3/lib/python3.6/site-packages (from spacy<2.4.0,>=2.3.0->es_core_news_sm==2.3.1) (3.0.2)\n",
      "Requirement already satisfied: wasabi<1.1.0,>=0.4.0 in /home/ec2-user/anaconda3/envs/python3/lib/python3.6/site-packages (from spacy<2.4.0,>=2.3.0->es_core_news_sm==2.3.1) (0.8.0)\n",
      "Requirement already satisfied: numpy>=1.15.0 in /home/ec2-user/anaconda3/envs/python3/lib/python3.6/site-packages (from spacy<2.4.0,>=2.3.0->es_core_news_sm==2.3.1) (1.18.1)\n",
      "Requirement already satisfied: setuptools in /home/ec2-user/anaconda3/envs/python3/lib/python3.6/site-packages (from spacy<2.4.0,>=2.3.0->es_core_news_sm==2.3.1) (45.2.0.post20200210)\n",
      "Requirement already satisfied: cymem<2.1.0,>=2.0.2 in /home/ec2-user/anaconda3/envs/python3/lib/python3.6/site-packages (from spacy<2.4.0,>=2.3.0->es_core_news_sm==2.3.1) (2.0.3)\n",
      "Requirement already satisfied: srsly<1.1.0,>=1.0.2 in /home/ec2-user/anaconda3/envs/python3/lib/python3.6/site-packages (from spacy<2.4.0,>=2.3.0->es_core_news_sm==2.3.1) (1.0.2)\n",
      "Requirement already satisfied: thinc==7.4.1 in /home/ec2-user/anaconda3/envs/python3/lib/python3.6/site-packages (from spacy<2.4.0,>=2.3.0->es_core_news_sm==2.3.1) (7.4.1)\n",
      "Requirement already satisfied: catalogue<1.1.0,>=0.0.7 in /home/ec2-user/anaconda3/envs/python3/lib/python3.6/site-packages (from spacy<2.4.0,>=2.3.0->es_core_news_sm==2.3.1) (1.0.0)\n",
      "Requirement already satisfied: tqdm<5.0.0,>=4.38.0 in /home/ec2-user/anaconda3/envs/python3/lib/python3.6/site-packages (from spacy<2.4.0,>=2.3.0->es_core_news_sm==2.3.1) (4.42.1)\n",
      "Requirement already satisfied: certifi>=2017.4.17 in /home/ec2-user/anaconda3/envs/python3/lib/python3.6/site-packages (from requests<3.0.0,>=2.13.0->spacy<2.4.0,>=2.3.0->es_core_news_sm==2.3.1) (2020.6.20)\n",
      "Requirement already satisfied: idna<2.9,>=2.5 in /home/ec2-user/anaconda3/envs/python3/lib/python3.6/site-packages (from requests<3.0.0,>=2.13.0->spacy<2.4.0,>=2.3.0->es_core_news_sm==2.3.1) (2.8)\n",
      "Requirement already satisfied: chardet<3.1.0,>=3.0.2 in /home/ec2-user/anaconda3/envs/python3/lib/python3.6/site-packages (from requests<3.0.0,>=2.13.0->spacy<2.4.0,>=2.3.0->es_core_news_sm==2.3.1) (3.0.4)\n",
      "Requirement already satisfied: urllib3!=1.25.0,!=1.25.1,<1.26,>=1.21.1 in /home/ec2-user/anaconda3/envs/python3/lib/python3.6/site-packages (from requests<3.0.0,>=2.13.0->spacy<2.4.0,>=2.3.0->es_core_news_sm==2.3.1) (1.25.8)\n",
      "Requirement already satisfied: importlib-metadata>=0.20; python_version < \"3.8\" in /home/ec2-user/anaconda3/envs/python3/lib/python3.6/site-packages (from catalogue<1.1.0,>=0.0.7->spacy<2.4.0,>=2.3.0->es_core_news_sm==2.3.1) (1.5.0)\n",
      "Requirement already satisfied: zipp>=0.5 in /home/ec2-user/anaconda3/envs/python3/lib/python3.6/site-packages (from importlib-metadata>=0.20; python_version < \"3.8\"->catalogue<1.1.0,>=0.0.7->spacy<2.4.0,>=2.3.0->es_core_news_sm==2.3.1) (2.2.0)\n",
      "\u001b[33mWARNING: You are using pip version 20.0.2; however, version 20.2.4 is available.\n",
      "You should consider upgrading via the '/home/ec2-user/anaconda3/envs/python3/bin/python -m pip install --upgrade pip' command.\u001b[0m\n",
      "\u001b[38;5;2m✔ Download and installation successful\u001b[0m\n",
      "You can now load the model via spacy.load('es_core_news_sm')\n",
      "\u001b[38;5;2m✔ Linking successful\u001b[0m\n",
      "/home/ec2-user/anaconda3/envs/python3/lib/python3.6/site-packages/es_core_news_sm\n",
      "-->\n",
      "/home/ec2-user/anaconda3/envs/python3/lib/python3.6/site-packages/spacy/data/es\n",
      "You can now load the model via spacy.load('es')\n"
     ]
    }
   ],
   "source": [
    "!python -m spacy download es"
   ]
  },
  {
   "cell_type": "code",
   "execution_count": 3,
   "metadata": {},
   "outputs": [
    {
     "name": "stderr",
     "output_type": "stream",
     "text": [
      "[nltk_data] Downloading package stopwords to\n",
      "[nltk_data]     /home/ec2-user/nltk_data...\n",
      "[nltk_data]   Package stopwords is already up-to-date!\n"
     ]
    }
   ],
   "source": [
    "import numpy as np\n",
    "import pandas as pd\n",
    "import spacy\n",
    "from io import StringIO\n",
    "import os\n",
    "from sklearn.feature_extraction import text\n",
    "from string import punctuation\n",
    "import nltk\n",
    "nltk.download('stopwords')\n",
    "from nltk.corpus import stopwords\n",
    "from sklearn.feature_extraction import text\n",
    "import re\n",
    "from nltk.stem.porter import PorterStemmer\n",
    "from nltk.stem.snowball import SnowballStemmer\n",
    "from string import punctuation\n",
    "import nltk\n",
    "from nltk.corpus import stopwords\n",
    "import unicodedata\n",
    "\n",
    "# Load Spanish stopwords and natural language processing library.\n",
    "all_stopword = list(stopwords.words(\"spanish\")) + list(punctuation)\n",
    "nlp = spacy.load('es', disable=['parser', 'ner'])  # make sure to use a larger model!\n"
   ]
  },
  {
   "cell_type": "code",
   "execution_count": 4,
   "metadata": {},
   "outputs": [],
   "source": [
    "\n",
    "# Read client's comments from data.xlsx\n",
    "df = pd.read_excel('data.xlsx')\n",
    "\n",
    "# Filter these data by the comments made from Hopsital source (\"fuente\" in spanish). \n",
    "# And remove those comments we won't use for the model.\n",
    "df = df[((df[\"FUENTE\"] != \"CINESA OLD VERSION\") & (df[\"FUENTE\"] != \"CINESA NEW VERSION\") & (df[\"FUENTE\"] != \"THYSSEN \"))]\n",
    "\n",
    "# Comments with label POS (Positive), Negative or Other (Otros) are not useful for our intention of predict specific comments about cocnrete hospital complaints\n",
    "df = df[(df[\"Codigo_new\"]!= \"POS\") & (df[\"Codigo_new\"]!= \"NEGATIVA\") & (df[\"Codigo_new\"]!= \"OTROS\")]\n",
    "\n",
    "# Calculate label's count and leaving only the comments which label have at least 30 comments\n",
    "def long_short(x):\n",
    "    df_long= pd.DataFrame(df[\"Codigo_new\"].value_counts()>=30)\n",
    "    df_long[\"Label\"]= df_long.index\n",
    "    df_long= df_long[df_long[\"Codigo_new\"]]\n",
    "    list_of_labels = list(df_long[\"Label\"])\n",
    "    if x in list_of_labels:\n",
    "        return \"Y\"\n",
    "    else:\n",
    "        return \"N\"\n",
    "    \n",
    "# Apply function to create a column  Y/N to filter by labels that we want to use to train the model. \n",
    "df[\"Short_Long\"] = df[\"Codigo_new\"].apply(long_short)\n",
    "df = df[df[\"Short_Long\"] == \"Y\"]\n",
    "\n",
    "df= df.sort_values(\"Codigo_new\")\n",
    "\n",
    "# Short the dataframe by leaving just two columns: the comments and the labels.\n",
    "col = ['Codigo_new', 'Comentarios_ES']\n",
    "df = df[col]\n",
    "df = df[pd.notnull(df['Comentarios_ES'])]\n",
    "\n",
    "# enlabel comments tags into numbers (category_ids)\n",
    "df['category_id'] = df['Codigo_new'].factorize()[0]\n",
    "\n",
    "#Created different variables to store category_id and comment Label.\n",
    "category_id_df = df[['Codigo_new', 'category_id']].drop_duplicates().sort_values('category_id')\n",
    "category_to_id = dict(category_id_df.values)\n",
    "id_to_category = dict(category_id_df[['category_id', 'Codigo_new']].values)\n",
    "\n",
    "\n",
    "\n",
    "#Create a length column for the comments in case we need them to train the model.\n",
    "splitter = lambda x: len(str(x).split())\n",
    "splitter_letter = lambda x: len(str(x))\n",
    "df[\"length_split\"] = df[\"Comentarios_ES\"].apply(splitter)\n",
    "df[\"length_letters\"] = df[\"Comentarios_ES\"].apply(splitter_letter)  \n",
    "\n"
   ]
  },
  {
   "cell_type": "markdown",
   "metadata": {},
   "source": [
    "### Preprocessing:"
   ]
  },
  {
   "cell_type": "code",
   "execution_count": 5,
   "metadata": {},
   "outputs": [],
   "source": [
    "# Function to remove stopwords from comments:\n",
    "def removeStopwords(words):\n",
    "    important_words=[]\n",
    "    seperator = ' '\n",
    "    for word in words.split():\n",
    "        if word not in all_stopword:\n",
    "            important_words.append(word)\n",
    "    return seperator.join(important_words)\n",
    "\n",
    "# Function to remove accents from comments:\n",
    "def strip_accents(s):\n",
    "    return ''.join(c for c in unicodedata.normalize('NFD', s)\n",
    "                  if unicodedata.category(c) != 'Mn')\n",
    "\n",
    "# Function to lemmatize the comments:\n",
    "def lemmatizacion(comment): # ,allowed_postags=['NOUN', 'ADJ', 'VERB',\"PROPN\"]\n",
    "    phrase= []\n",
    "    for word in comment.split():\n",
    "        doc = nlp(word)\n",
    "        #if doc[0].pos_ in allowed_postags:\n",
    "        phrase.append(doc[0].lemma_)\n",
    "    return \" \".join(phrase)\n",
    "\n",
    "\n",
    "#from spellchecker import SpellChecker\n",
    "#spell = SpellChecker(language=\"es\")\n",
    "\n",
    "# Function to autocorrect the comments:\n",
    "def autocorrector(x):\n",
    "    misspelled = spell.unknown(str(x).split())\n",
    "    sentence = x\n",
    "    for wd in misspelled:\n",
    "    # Get the one `most likely` answer\n",
    "        sentence= sentence.replace(wd,spell.correction(wd))\n",
    "    return sentence   \n"
   ]
  },
  {
   "cell_type": "code",
   "execution_count": 6,
   "metadata": {},
   "outputs": [],
   "source": [
    "\n",
    "def dataframe_processing(df):\n",
    "    \"\"\" Transform string text to a format that the model can read \n",
    "    args:\n",
    "    df (Dataframe) takes a dataframe with comments\n",
    "    return: a dataframe with comments without stopwords, in lowercase and stemmed.\"\"\"\n",
    "    \n",
    "    \n",
    "    corpus = []\n",
    "    for i in df['Comentarios_ES'].index:\n",
    "        review = df['Comentarios_ES'][i]\n",
    "        \n",
    "        # Transform each review to lowercase and append it to a list of reviews (corpus)\n",
    "        review = str(review).lower()\n",
    "        corpus.append(review)\n",
    "        \n",
    "    # Create a new column on our dataframe with the new lowercase comments called CleanComment:\n",
    "    df[\"CleanComment\"]  = corpus\n",
    "    \n",
    "    # Remove stopwords.\n",
    "    df[\"CleanComment\"] = df[\"CleanComment\"].apply(removeStopwords)\n",
    "    \n",
    "    \n",
    "    corpus2 = []\n",
    "    \n",
    "    # Go through again to each review, split it in words and stem each word.\n",
    "    for i in df['CleanComment'].index:\n",
    "        review = df['CleanComment'][i]\n",
    "        review = review.split()\n",
    "        ps = SnowballStemmer(\"spanish\")\n",
    "        review = [ps.stem(word) for word in review if not word in set(all_stopword)]\n",
    "        \n",
    "        # then join with spaces each word and append it to the list of reviews (corpus2)\n",
    "        review = ' '.join(review)\n",
    "        corpus2.append(review)\n",
    "        \n",
    "    # Set the column CleanComments to corpus2\n",
    "    df['CleanComment'] = corpus2\n",
    "    df[\"CleanComment\"]= df[\"CleanComment\"].apply(strip_accents)\n",
    "    \n",
    "    corpus3 = []\n",
    "    # Finally remove punctuation and symbols from each review.\n",
    "    for i in df['CleanComment'].index: \n",
    "        review = re.sub('[^a-zA-Z]', ' ', df['CleanComment'][i])\n",
    "        corpus3.append(review)\n",
    "    df[\"CleanComment\"]= corpus3\n",
    "    \n",
    "    return df\n",
    "\n",
    "    "
   ]
  },
  {
   "cell_type": "code",
   "execution_count": 7,
   "metadata": {},
   "outputs": [],
   "source": [
    "df= dataframe_processing(df)"
   ]
  },
  {
   "cell_type": "code",
   "execution_count": 8,
   "metadata": {},
   "outputs": [],
   "source": [
    "#create a data directory to save preprocessed df.\n",
    "data_dir = \"Label_predictor\"\n",
    "if not os.path.exists(data_dir):\n",
    "    os.makedirs(data_dir)"
   ]
  },
  {
   "cell_type": "code",
   "execution_count": 63,
   "metadata": {},
   "outputs": [],
   "source": [
    "# Save processed comments to data_dir\n",
    "df.to_csv(os.path.join(data_dir,\"clencomments.csv\"),index=False,header=True)"
   ]
  },
  {
   "cell_type": "code",
   "execution_count": 9,
   "metadata": {},
   "outputs": [
    {
     "name": "stdout",
     "output_type": "stream",
     "text": [
      "<class 'pandas.core.frame.DataFrame'>\n",
      "RangeIndex: 2405 entries, 0 to 2404\n",
      "Data columns (total 6 columns):\n",
      " #   Column          Non-Null Count  Dtype \n",
      "---  ------          --------------  ----- \n",
      " 0   Codigo_new      2405 non-null   object\n",
      " 1   Comentarios_ES  2405 non-null   object\n",
      " 2   category_id     2405 non-null   int64 \n",
      " 3   length_split    2405 non-null   int64 \n",
      " 4   length_letters  2405 non-null   int64 \n",
      " 5   CleanComment    2384 non-null   object\n",
      "dtypes: int64(3), object(3)\n",
      "memory usage: 112.9+ KB\n"
     ]
    }
   ],
   "source": [
    "# Read processed comments  from data_dir\n",
    "df= pd.read_csv(os.path.join(data_dir,\"clencomments.csv\"),header=0)\n",
    "df.info()"
   ]
  },
  {
   "cell_type": "code",
   "execution_count": 10,
   "metadata": {},
   "outputs": [
    {
     "name": "stdout",
     "output_type": "stream",
     "text": [
      "<class 'pandas.core.frame.DataFrame'>\n",
      "Int64Index: 2384 entries, 0 to 2404\n",
      "Data columns (total 6 columns):\n",
      " #   Column          Non-Null Count  Dtype \n",
      "---  ------          --------------  ----- \n",
      " 0   Codigo_new      2384 non-null   object\n",
      " 1   Comentarios_ES  2384 non-null   object\n",
      " 2   category_id     2384 non-null   int64 \n",
      " 3   length_split    2384 non-null   int64 \n",
      " 4   length_letters  2384 non-null   int64 \n",
      " 5   CleanComment    2384 non-null   object\n",
      "dtypes: int64(3), object(3)\n",
      "memory usage: 130.4+ KB\n"
     ]
    }
   ],
   "source": [
    "# Drop empty comments giving by the result of removing stopwords.\n",
    "df=df.dropna()\n",
    "df.info()"
   ]
  },
  {
   "cell_type": "markdown",
   "metadata": {},
   "source": [
    "### Analysis:"
   ]
  },
  {
   "cell_type": "code",
   "execution_count": 11,
   "metadata": {},
   "outputs": [
    {
     "data": {
      "image/png": "[encoded data removed]",
      "text/plain": [
       "<Figure size 1008x432 with 1 Axes>"
      ]
     },
     "metadata": {
      "needs_background": "light"
     },
     "output_type": "display_data"
    }
   ],
   "source": [
    "import matplotlib.pyplot as plt\n",
    "import seaborn as sns\n",
    "%matplotlib inline\n",
    "\n",
    "# Check comments count by label.\n",
    "# To see if there are unbalanced classes we need to take into account when training the model:\n",
    "\n",
    "fig = plt.figure(figsize=(14,6))\n",
    "df.groupby('Codigo_new')[\"CleanComment\"].count().plot.bar(ylim=0)\n",
    "plt.show()"
   ]
  },
  {
   "cell_type": "code",
   "execution_count": 12,
   "metadata": {},
   "outputs": [
    {
     "data": {
      "text/plain": [
       "<matplotlib.axes._subplots.AxesSubplot at 0x7fc1edf642b0>"
      ]
     },
     "execution_count": 12,
     "metadata": {},
     "output_type": "execute_result"
    },
    {
     "data": {
      "image/png": "[encoded data removed]",
      "text/plain": [
       "<Figure size 1008x432 with 1 Axes>"
      ]
     },
     "metadata": {
      "needs_background": "light"
     },
     "output_type": "display_data"
    }
   ],
   "source": [
    "# Check comments length by label. We might want to include this data to the model.\n",
    "fig = plt.figure(figsize=(14,6))\n",
    "df_ =df.copy()\n",
    "df_.groupby(\"Codigo_new\").mean()[\"length_letters\"].plot()"
   ]
  },
  {
   "cell_type": "markdown",
   "metadata": {},
   "source": [
    "Create a word count file to see which most common and uncommond words that happen in the file or if need word must be added to the stopword list. \n",
    "For instance, Using TFIDF (short for term frequency–inverse document frequency) from Sklearn library. \n",
    "TFIDF measures not only the term count of a comment, but also the frequency compensating the most and \n",
    "less used terms along the data frame."
   ]
  },
  {
   "cell_type": "code",
   "execution_count": 13,
   "metadata": {},
   "outputs": [],
   "source": [
    "words =[]\n",
    "for text in df[\"CleanComment\"]:\n",
    "    for word in str(text).split():\n",
    "        words.append(word)\n",
    "        \n",
    "pd.DataFrame(words)[0].value_counts().to_excel(os.path.join(data_dir,\"wordcount-CleanComment.xlsx\"))\n",
    "\n",
    "#SLUG \n",
    "words =[]\n",
    "for text in df[\"Comentarios_ES\"]:\n",
    "    for word in str(text).split():\n",
    "        words.append(word)\n",
    "        \n",
    "pd.DataFrame(words)[0].value_counts().to_excel(os.path.join(data_dir,\"wordcount.xlsx\"))\n"
   ]
  },
  {
   "cell_type": "code",
   "execution_count": 16,
   "metadata": {},
   "outputs": [],
   "source": [
    "\"\"\" N-GRAMS\"\"\"\n",
    "# Extract file's n-grams words to see which ngrams the document have.\n",
    "from sklearn.feature_extraction.text import TfidfVectorizer,CountVectorizer\n",
    "x= df[\"CleanComment\"]\n",
    "y= df[\"Codigo_new\"]\n",
    "\n",
    "counter = CountVectorizer(vocabulary=None,ngram_range=(2, 2), analyzer='word')\n",
    "x_counter= counter.fit_transform(x.values)\n",
    "terms =pd.DataFrame(x_counter.toarray(),columns=counter.get_feature_names()).sum()\n",
    "terms.to_excel(os.path.join(data_dir,\"ngrams.xlsx\"))"
   ]
  },
  {
   "cell_type": "code",
   "execution_count": 17,
   "metadata": {},
   "outputs": [],
   "source": [
    "from sklearn.metrics import confusion_matrix,classification_report,average_precision_score,precision_score,recall_score,accuracy_score\n",
    "from sklearn.feature_extraction.text import CountVectorizer\n",
    "from sklearn.feature_extraction.text import TfidfTransformer\n",
    "from sklearn.feature_extraction.text import TfidfVectorizer\n",
    "from sklearn.svm import LinearSVC\n",
    "\n"
   ]
  },
  {
   "cell_type": "markdown",
   "metadata": {},
   "source": [
    "After getting an idea about how my data is distributed I considered different model that could fit my data and my target I read about text analysis and since it works with matrix of numbers, I chose these algorithms that takes matrix and vectors of numbers the result of their accuracy accordingly to my train data are the following:"
   ]
  },
  {
   "cell_type": "code",
   "execution_count": 18,
   "metadata": {},
   "outputs": [
    {
     "data": {
      "image/png": "[encoded data removed]",
      "text/plain": [
       "<Figure size 1008x432 with 1 Axes>"
      ]
     },
     "metadata": {
      "needs_background": "light"
     },
     "output_type": "display_data"
    }
   ],
   "source": [
    "from sklearn.linear_model import LogisticRegression\n",
    "from sklearn.ensemble import RandomForestClassifier\n",
    "from sklearn.linear_model import LinearRegression\n",
    "from sklearn.neighbors import KNeighborsClassifier\n",
    "from sklearn.naive_bayes import MultinomialNB\n",
    "\n",
    "from sklearn.linear_model import SGDClassifier\n",
    "from sklearn.svm import LinearSVC\n",
    "from sklearn.svm import SVC\n",
    "from sklearn.svm import LinearSVR\n",
    "from sklearn.model_selection import cross_val_score\n",
    "from sklearn.cluster import KMeans\n",
    "import matplotlib.pyplot as plt\n",
    "tfidf= TfidfVectorizer()\n",
    "features = tfidf.fit_transform(df[\"CleanComment\"]).toarray()\n",
    "labels = df.category_id\n",
    "\n",
    "fig = plt.figure(figsize=(14,6))\n",
    "models = [\n",
    "    RandomForestClassifier(n_estimators=200, max_depth=3, random_state=0),\n",
    "    LinearSVC(),\n",
    "    SVC(),\n",
    "    MultinomialNB(),\n",
    "    LogisticRegression(),KNeighborsClassifier(),SGDClassifier(),\n",
    "]\n",
    "CV = 6\n",
    "cv_df = pd.DataFrame(index=range(CV * len(models)))\n",
    "entries = []\n",
    "for model in models:\n",
    "    model_name = model.__class__.__name__\n",
    "    accuracies = cross_val_score(model, features, labels, scoring='accuracy', cv=CV)\n",
    "    for fold_idx, accuracy in enumerate(accuracies):\n",
    "        entries.append((model_name, fold_idx, accuracy))\n",
    "cv_df = pd.DataFrame(entries, columns=['model_name', 'fold_idx', 'accuracy'])\n",
    "import seaborn as sns\n",
    "sns.boxplot(x='model_name', y='accuracy', data=cv_df)\n",
    "sns.stripplot(x='model_name', y='accuracy', data=cv_df, \n",
    "              size=8, jitter=True, edgecolor=\"gray\", linewidth=2)\n",
    "plt.show()"
   ]
  },
  {
   "cell_type": "markdown",
   "metadata": {},
   "source": [
    "After I selected the most efficient model for my data (Linear SVC) I trained a provisional model in the notebook instance using Sklearn package to make some arrangements.\n"
   ]
  },
  {
   "cell_type": "code",
   "execution_count": 19,
   "metadata": {},
   "outputs": [
    {
     "data": {
      "text/plain": [
       "Pipeline(memory=None,\n",
       "         steps=[('tfidf',\n",
       "                 TfidfVectorizer(analyzer='word', binary=False,\n",
       "                                 decode_error='strict',\n",
       "                                 dtype=<class 'numpy.float64'>,\n",
       "                                 encoding='utf-8', input='content',\n",
       "                                 lowercase=True, max_df=1.0, max_features=None,\n",
       "                                 min_df=1, ngram_range=(1, 1), norm='l2',\n",
       "                                 preprocessor=None, smooth_idf=True,\n",
       "                                 stop_words=None, strip_accents=None,\n",
       "                                 sublinear_tf=False,\n",
       "                                 token_pattern='(?u)\\\\b\\\\w\\\\w+\\\\b',\n",
       "                                 tokenizer=None, use_idf=True,\n",
       "                                 vocabulary=None)),\n",
       "                ('clf',\n",
       "                 LinearSVC(C=1.0, class_weight=None, dual=True,\n",
       "                           fit_intercept=True, intercept_scaling=1,\n",
       "                           loss='squared_hinge', max_iter=1000,\n",
       "                           multi_class='ovr', penalty='l2', random_state=None,\n",
       "                           tol=0.0001, verbose=0))],\n",
       "         verbose=False)"
      ]
     },
     "execution_count": 19,
     "metadata": {},
     "output_type": "execute_result"
    }
   ],
   "source": [
    "\"\"\"  PIPELINE Model \"\"\"\n",
    "from sklearn.pipeline import Pipeline\n",
    "from sklearn.model_selection import train_test_split\n",
    "\n",
    "x_train, x_test, y_train, y_test =  train_test_split(x,y, test_size=0.3,random_state= 217)\n",
    "\n",
    "# Create a Pipeline Linear SVC model.\n",
    "clf = Pipeline([(\"tfidf\",TfidfVectorizer(vocabulary=None,analyzer=\"word\",lowercase=True)),(\"clf\",LinearSVC())])\n",
    "clf.fit(x_train,y_train)"
   ]
  },
  {
   "cell_type": "markdown",
   "metadata": {},
   "source": [
    "After training this model I take this provisional model vocabulary and sorted it by their coefficients. . I also considered an optional function called update_vocabulary() that would update model’s vocabulary adding the words I considered important for the model. But didn’t apply it.\n",
    "\n",
    "Then I plot a graph that calculates accuracy according to the length of the sorted vocabulary. Then I did the same with the number of N-grams range my TfidfVectorizer object would take.\n"
   ]
  },
  {
   "cell_type": "code",
   "execution_count": 20,
   "metadata": {},
   "outputs": [],
   "source": [
    "# GET VOCABULARY SORTED BY MODEL COEFICIENTS\n",
    "\n",
    "def get_model_vocab(model,n_features):\n",
    "    \"\"\" This function takes a trained model and returns it's vectorize vocabulary\n",
    "    args:\n",
    "    model (a Pipeline LinearSVC model with TfidfVectorizer): the trained model using a Pipeline function\n",
    "    \n",
    "    return: \n",
    "    vocabulary of the train data as a dictionary\"\"\"\n",
    "    \n",
    "    coefs = model.named_steps[\"clf\"].coef_\n",
    "    if type(coefs) ==\"csr_matrix\":\n",
    "        coefs.toarray().tolist()[0]\n",
    "    else:\n",
    "        coefs.tolist()\n",
    "    feature_names = model.named_steps[\"tfidf\"].get_feature_names()\n",
    "    coefs_and_features = list(zip(coefs[0],feature_names))\n",
    "    top_feats = sorted(coefs_and_features, key=lambda x: abs(x[0]), reverse=True)[:n_features]\n",
    "    vocab = {x[1]: i for i, x in enumerate(top_feats)}\n",
    "    return vocab\n",
    "\n",
    "#  UPDATE VOCABULARY WITH new N-GRAMS words (Optional)\n",
    "def update_vocabulary(string):\n",
    "    \"\"\" This function takes a strings series separated by commas and adds each word or ngrams into the model's vocabulary.\n",
    "    args:\n",
    "    string (string): the series of string or strings separates by commas.\n",
    "    \n",
    "    return: \n",
    "    updated vocabulary of the train data as a dictionary\"\"\"\n",
    "    vocab_2ngram = string.split(\",\")\n",
    "    vocab_2ngram_dict = {}\n",
    "    for i,word in zip(range(len(vocab),len(vocab)+len(vocab_2ngram)),vocab_2ngram):\n",
    "        vocab_2ngram_dict.update({word:i})\n",
    "    vocab_2ngram_dict\n",
    "    vocab.update(vocab_2ngram_dict)\n",
    "    return vocab\n",
    "\n",
    "string = \"urgenci esper,tiemp esper,temps esper,sal esper,personal medic,hor esper,esper urgenci,falt personal,list esper,cambi personal,esper consult,esper hor,air acondicion,do hor,esper visit,necesit personal,baix preus,buen atencion,esper demasi,esper sal,trat human,varied product,atencion client\"\n",
    "\n",
    "vocab = get_model_vocab(clf,5000)\n",
    "\n"
   ]
  },
  {
   "cell_type": "markdown",
   "metadata": {},
   "source": [
    "Plot a graph that calculates accuracy according to the length of the sorted vocabulary and the number of N-grams range my TfidfVectorizer object would take:"
   ]
  },
  {
   "cell_type": "code",
   "execution_count": 21,
   "metadata": {},
   "outputs": [
    {
     "data": {
      "text/plain": [
       "<matplotlib.legend.Legend at 0x7fc1eb05bda0>"
      ]
     },
     "execution_count": 21,
     "metadata": {},
     "output_type": "execute_result"
    },
    {
     "data": {
      "image/png": "[encoded data removed]",
      "text/plain": [
       "<Figure size 576x576 with 1 Axes>"
      ]
     },
     "metadata": {
      "needs_background": "light"
     },
     "output_type": "display_data"
    }
   ],
   "source": [
    "from sklearn import model_selection\n",
    "import pickle\n",
    "import itertools\n",
    "import matplotlib.pyplot as plt\n",
    "\n",
    "\"\"\" VOCABUALRY SIZE VS MODEL EFFICIENCY \"\"\"\n",
    "\n",
    "test_score_precision1 = []\n",
    "test_score_prediction1 = []\n",
    "train_score1 = []\n",
    "test_score1 = []\n",
    "for depth in range(1,2000,200):\n",
    "    clf = Pipeline([(\"tfidf\",TfidfVectorizer(vocabulary=dict(itertools.islice(vocab.items(), depth)),analyzer=\"word\",lowercase=True)),(\"clf\",LinearSVC())])\n",
    "    clf.fit(x_train,y_train)\n",
    "\n",
    "    rfc_pred = clf.predict(x_test)\n",
    "    train_score1.append(clf.score(x_train,y_train))\n",
    "    test_score1.append(clf.score(x_test,y_test))\n",
    "\n",
    "plt.figure(figsize = (8,8))\n",
    "plt.plot( range(1,2000,200), test_score1)\n",
    "plt.plot( range(1,2000,200), train_score1)\n",
    "plt.xlabel('Vocabulary words')\n",
    "plt.ylabel('Accuracy')\n",
    "plt.legend([\"test_score\",\"train_score\"])"
   ]
  },
  {
   "cell_type": "code",
   "execution_count": 22,
   "metadata": {},
   "outputs": [
    {
     "data": {
      "text/plain": [
       "<matplotlib.legend.Legend at 0x7fc1eaeb3dd8>"
      ]
     },
     "execution_count": 22,
     "metadata": {},
     "output_type": "execute_result"
    },
    {
     "data": {
      "image/png": "[encoded data removed]",
      "text/plain": [
       "<Figure size 576x576 with 1 Axes>"
      ]
     },
     "metadata": {
      "needs_background": "light"
     },
     "output_type": "display_data"
    }
   ],
   "source": [
    "\"\"\" # NGRAMS  VS MODEL EFFICIENCY \"\"\"\n",
    "\n",
    "\n",
    "test_score_precision1 = []\n",
    "test_score_prediction1 = []\n",
    "train_score1 = []\n",
    "test_score1 = []\n",
    "for n in range(1,5,1):\n",
    "    clf = Pipeline([(\"tfidf\",TfidfVectorizer(ngram_range=(n,n),analyzer=\"word\",lowercase=True)),(\"clf\",LinearSVC())])\n",
    "    clf.fit(x_train,y_train)\n",
    "\n",
    "    rfc_pred = clf.predict(x_test)\n",
    "    train_score1.append(clf.score(x_train,y_train))\n",
    "    test_score1.append(clf.score(x_test,y_test))\n",
    "\n",
    "plt.figure(figsize = (8,8))\n",
    "\n",
    "plt.plot( range(1,5,1), test_score1)\n",
    "plt.plot( range(1,5,1), train_score1)\n",
    "plt.xlabel('N-grams')\n",
    "plt.ylabel('Accuracy')\n",
    "plt.legend([\"test_score\",\"train_score\"])"
   ]
  },
  {
   "cell_type": "markdown",
   "metadata": {},
   "source": [
    "Finally, trained the provisional model using that insight and calculated model metrics:"
   ]
  },
  {
   "cell_type": "code",
   "execution_count": 23,
   "metadata": {},
   "outputs": [
    {
     "name": "stdout",
     "output_type": "stream",
     "text": [
      "               precision    recall  f1-score   support\n",
      "\n",
      "       COMIDA       0.92      0.84      0.88        69\n",
      "       ESPERA       0.88      0.90      0.89       160\n",
      "        FUERA       0.66      0.86      0.74        85\n",
      "INSTALACIONES       0.76      0.66      0.71        91\n",
      "     LIMPIEZA       0.93      0.87      0.90        31\n",
      "        NIÑOS       0.73      0.84      0.78        19\n",
      "     PERSONAL       0.78      0.78      0.78       161\n",
      "      PRECIOS       0.88      0.81      0.85        37\n",
      " PROGRAMACIÓN       0.89      0.76      0.82        63\n",
      "\n",
      "     accuracy                           0.81       716\n",
      "    macro avg       0.83      0.81      0.82       716\n",
      " weighted avg       0.82      0.81      0.81       716\n",
      "\n",
      "Model accuracy: 0.81. Recall: 0.81. Precision: 0.82\n"
     ]
    }
   ],
   "source": [
    "text_clf = Pipeline([(\"tfidf\",TfidfVectorizer(vocabulary = None,ngram_range=(1,1),analyzer=\"word\",lowercase=True)),(\"clf\",LinearSVC())])\n",
    "text_clf.fit(x_train,y_train)\n",
    "\n",
    "predictions = text_clf.predict(x_test)\n",
    "print(classification_report(y_test,predictions))\n",
    "\n",
    "print(\"Model accuracy: {}. Recall: {}. Precision: {}\".format(round(accuracy_score(predictions,y_test),2),round(recall_score(predictions,y_test,average=\"weighted\"),2),round(precision_score(predictions,y_test,average=\"weighted\"),2)))\n",
    "\n"
   ]
  },
  {
   "cell_type": "markdown",
   "metadata": {},
   "source": [
    "MODEL accuracy, recall and precision quite high, 80%. I believe this performance is valid to our purpose, taking in mind that some comments are ambiguous and they might belong to more than one category. Due to that, I decided to calculate how predictions and real labels are distributed.\n",
    "\n",
    "See in the below graph how comments predictions are distribuited:"
   ]
  },
  {
   "cell_type": "code",
   "execution_count": 24,
   "metadata": {},
   "outputs": [
    {
     "data": {
      "image/png": "[encoded data removed]",
      "text/plain": [
       "<Figure size 1440x1440 with 2 Axes>"
      ]
     },
     "metadata": {
      "needs_background": "light"
     },
     "output_type": "display_data"
    }
   ],
   "source": [
    "\n",
    "import matplotlib.pyplot as plt\n",
    "import seaborn as sns\n",
    "from sklearn.metrics import confusion_matrix\n",
    "conf_mat = confusion_matrix(y_test, predictions)\n",
    "fig, ax = plt.subplots(figsize=(20,20))\n",
    "\n",
    "cmap = plt.get_cmap('Blues',5)\n",
    "cmap.set_under('white')#Colour values less than vmin in white\n",
    "cmap.set_over('blue')# colour valued larger than vmax in red \n",
    "sns.heatmap(conf_mat, annot=True, fmt='d',cmap=cmap,\n",
    "            xticklabels=category_id_df.Codigo_new.values, yticklabels=category_id_df.Codigo_new.values,linecolor=\"grey\",vmin=1)\n",
    "plt.title(\"Precitions\")\n",
    "plt.ylabel('Actual')\n",
    "plt.xlabel('Predicted')\n",
    "plt.show()"
   ]
  },
  {
   "cell_type": "markdown",
   "metadata": {},
   "source": [
    "Then I check if the training examples were correctly labeled, so I created a dataframe with the comments, the real label and the prediction label and check one by one whether the prediction label was more accurate that the real one. After all, the data was manually labeled by humans and they might be errors as well on labeling them.\n",
    "\n",
    "Doing this I noticed that some comments belong much more to the predicted label than to the real label they had, meaning that some comments were mislabeled at the beginning. So I went through the original training data set (data.xlsx) and manually check whether the comments were accordingly labeled and corrected the labels in case it wasn’t properly done. Then run the whole code again.\n",
    "\n",
    "Doing this improved my model precision."
   ]
  },
  {
   "cell_type": "code",
   "execution_count": 25,
   "metadata": {},
   "outputs": [],
   "source": [
    "predictions_df = pd.DataFrame([x_test.values,y_test.values,predictions]).T\n",
    "predictions_df.columns=  [\"Comment\",\"Real Label\",\"Predicted Label\"]\n",
    "predictions_df.to_csv(os.path.join(data_dir,\"Predictions Labels Check.csv\"))"
   ]
  },
  {
   "cell_type": "markdown",
   "metadata": {},
   "source": [
    "### Modeling \n",
    "It is time to set up the model using AWS."
   ]
  },
  {
   "cell_type": "code",
   "execution_count": 26,
   "metadata": {},
   "outputs": [],
   "source": [
    "\"\"\" USING PIPEPILE\"\"\"\n",
    "\n",
    "# Prepare train and test data to save it in our directory.\n",
    "train_Pipeline = pd.concat([pd.DataFrame(y_train),pd.DataFrame(x_train)],axis=1)\n",
    "test_Pipeline = pd.concat([pd.DataFrame(y_test),pd.DataFrame(x_test)],axis=1)\n",
    "\n",
    "train_data_y_Pipe= train_Pipeline[\"Codigo_new\"].values\n",
    "train_data_x_Pipe= train_Pipeline[\"CleanComment\"].values\n",
    "\n",
    "test_data_y_Pipe= test_Pipeline[\"Codigo_new\"].values\n",
    "test_data_x_Pipe= test_Pipeline[\"CleanComment\"].values\n"
   ]
  },
  {
   "cell_type": "code",
   "execution_count": 27,
   "metadata": {},
   "outputs": [],
   "source": [
    "\n",
    "# Create a function to save the training and test data into our data  directory.\n",
    "def make_csv(x, y, filename, data_dir):\n",
    "    '''Merges features and labels and converts them into one csv file with labels in the first column.\n",
    "       :param x: Data features\n",
    "       :param y: Data labels\n",
    "       :param file_name: Name of csv file, ex. 'train.csv'\n",
    "       :param data_dir: The directory where files will be saved\n",
    "       '''\n",
    "    # make data dir, if it does not exist\n",
    "    if not os.path.exists(data_dir):\n",
    "        os.makedirs(data_dir)\n",
    "    \n",
    "    \n",
    "    # your code here\n",
    "    df = pd.concat([pd.DataFrame(y),pd.DataFrame(x)],axis=1)\n",
    "    df.to_csv(os.path.join(data_dir,filename),index=False,header=False)\n",
    "    \n",
    "    # nothing is returned, but a print statement indicates that the function has run\n",
    "    print('Path created: '+str(data_dir)+'/'+str(filename))\n",
    "    return df"
   ]
  },
  {
   "cell_type": "code",
   "execution_count": 28,
   "metadata": {},
   "outputs": [
    {
     "name": "stdout",
     "output_type": "stream",
     "text": [
      "Path created: Label_predictor/train_Pipe.csv\n"
     ]
    },
    {
     "data": {
      "text/html": [
       "<div>\n",
       "<style scoped>\n",
       "    .dataframe tbody tr th:only-of-type {\n",
       "        vertical-align: middle;\n",
       "    }\n",
       "\n",
       "    .dataframe tbody tr th {\n",
       "        vertical-align: top;\n",
       "    }\n",
       "\n",
       "    .dataframe thead th {\n",
       "        text-align: right;\n",
       "    }\n",
       "</style>\n",
       "<table border=\"1\" class=\"dataframe\">\n",
       "  <thead>\n",
       "    <tr style=\"text-align: right;\">\n",
       "      <th></th>\n",
       "      <th>0</th>\n",
       "      <th>0</th>\n",
       "    </tr>\n",
       "  </thead>\n",
       "  <tbody>\n",
       "    <tr>\n",
       "      <th>0</th>\n",
       "      <td>ESPERA</td>\n",
       "      <td>rapidez</td>\n",
       "    </tr>\n",
       "    <tr>\n",
       "      <th>1</th>\n",
       "      <td>FUERA</td>\n",
       "      <td>ae</td>\n",
       "    </tr>\n",
       "    <tr>\n",
       "      <th>2</th>\n",
       "      <td>LIMPIEZA</td>\n",
       "      <td>limpi</td>\n",
       "    </tr>\n",
       "    <tr>\n",
       "      <th>3</th>\n",
       "      <td>PERSONAL</td>\n",
       "      <td>atencion client</td>\n",
       "    </tr>\n",
       "    <tr>\n",
       "      <th>4</th>\n",
       "      <td>FUERA</td>\n",
       "      <td>gust minkr v jajaj equisd lol put k leer despu...</td>\n",
       "    </tr>\n",
       "    <tr>\n",
       "      <th>...</th>\n",
       "      <td>...</td>\n",
       "      <td>...</td>\n",
       "    </tr>\n",
       "    <tr>\n",
       "      <th>1663</th>\n",
       "      <td>INSTALACIONES</td>\n",
       "      <td>sill mal parec mentir ten herramient tan impor...</td>\n",
       "    </tr>\n",
       "    <tr>\n",
       "      <th>1664</th>\n",
       "      <td>FUERA</td>\n",
       "      <td>foii q</td>\n",
       "    </tr>\n",
       "    <tr>\n",
       "      <th>1665</th>\n",
       "      <td>ESPERA</td>\n",
       "      <td>reduc lisr esper tiemp esper consult</td>\n",
       "    </tr>\n",
       "    <tr>\n",
       "      <th>1666</th>\n",
       "      <td>ESPERA</td>\n",
       "      <td>medic urgenci normal ven urgenci esper hor hor...</td>\n",
       "    </tr>\n",
       "    <tr>\n",
       "      <th>1667</th>\n",
       "      <td>ESPERA</td>\n",
       "      <td>tiemp esper demasi larg cas padr sufr demenci ...</td>\n",
       "    </tr>\n",
       "  </tbody>\n",
       "</table>\n",
       "<p>1668 rows × 2 columns</p>\n",
       "</div>"
      ],
      "text/plain": [
       "                  0                                                  0\n",
       "0            ESPERA                                            rapidez\n",
       "1             FUERA                                                 ae\n",
       "2          LIMPIEZA                                              limpi\n",
       "3          PERSONAL                                    atencion client\n",
       "4             FUERA  gust minkr v jajaj equisd lol put k leer despu...\n",
       "...             ...                                                ...\n",
       "1663  INSTALACIONES  sill mal parec mentir ten herramient tan impor...\n",
       "1664          FUERA                                             foii q\n",
       "1665         ESPERA               reduc lisr esper tiemp esper consult\n",
       "1666         ESPERA  medic urgenci normal ven urgenci esper hor hor...\n",
       "1667         ESPERA  tiemp esper demasi larg cas padr sufr demenci ...\n",
       "\n",
       "[1668 rows x 2 columns]"
      ]
     },
     "execution_count": 28,
     "metadata": {},
     "output_type": "execute_result"
    }
   ],
   "source": [
    "make_csv(train_data_x_Pipe,train_data_y_Pipe,\"train_Pipe.csv\",data_dir)"
   ]
  },
  {
   "cell_type": "code",
   "execution_count": 29,
   "metadata": {},
   "outputs": [
    {
     "name": "stdout",
     "output_type": "stream",
     "text": [
      "Path created: Label_predictor/test_Pipe.csv\n"
     ]
    },
    {
     "data": {
      "text/html": [
       "<div>\n",
       "<style scoped>\n",
       "    .dataframe tbody tr th:only-of-type {\n",
       "        vertical-align: middle;\n",
       "    }\n",
       "\n",
       "    .dataframe tbody tr th {\n",
       "        vertical-align: top;\n",
       "    }\n",
       "\n",
       "    .dataframe thead th {\n",
       "        text-align: right;\n",
       "    }\n",
       "</style>\n",
       "<table border=\"1\" class=\"dataframe\">\n",
       "  <thead>\n",
       "    <tr style=\"text-align: right;\">\n",
       "      <th></th>\n",
       "      <th>0</th>\n",
       "      <th>0</th>\n",
       "    </tr>\n",
       "  </thead>\n",
       "  <tbody>\n",
       "    <tr>\n",
       "      <th>0</th>\n",
       "      <td>PERSONAL</td>\n",
       "      <td>personal recepcion pod ser amabl</td>\n",
       "    </tr>\n",
       "    <tr>\n",
       "      <th>1</th>\n",
       "      <td>INSTALACIONES</td>\n",
       "      <td>jor estanci enferm</td>\n",
       "    </tr>\n",
       "    <tr>\n",
       "      <th>2</th>\n",
       "      <td>PERSONAL</td>\n",
       "      <td>atencion</td>\n",
       "    </tr>\n",
       "    <tr>\n",
       "      <th>3</th>\n",
       "      <td>PERSONAL</td>\n",
       "      <td>informacion</td>\n",
       "    </tr>\n",
       "    <tr>\n",
       "      <th>4</th>\n",
       "      <td>COMIDA</td>\n",
       "      <td>com vegetarian vegan carn</td>\n",
       "    </tr>\n",
       "    <tr>\n",
       "      <th>...</th>\n",
       "      <td>...</td>\n",
       "      <td>...</td>\n",
       "    </tr>\n",
       "    <tr>\n",
       "      <th>711</th>\n",
       "      <td>PERSONAL</td>\n",
       "      <td>amabil respet</td>\n",
       "    </tr>\n",
       "    <tr>\n",
       "      <th>712</th>\n",
       "      <td>INSTALACIONES</td>\n",
       "      <td>sal esper discret moderniz mobiliari</td>\n",
       "    </tr>\n",
       "    <tr>\n",
       "      <th>713</th>\n",
       "      <td>ESPERA</td>\n",
       "      <td>pumtual</td>\n",
       "    </tr>\n",
       "    <tr>\n",
       "      <th>714</th>\n",
       "      <td>PERSONAL</td>\n",
       "      <td>informacion</td>\n",
       "    </tr>\n",
       "    <tr>\n",
       "      <th>715</th>\n",
       "      <td>ESPERA</td>\n",
       "      <td>tiemp esper</td>\n",
       "    </tr>\n",
       "  </tbody>\n",
       "</table>\n",
       "<p>716 rows × 2 columns</p>\n",
       "</div>"
      ],
      "text/plain": [
       "                 0                                     0\n",
       "0         PERSONAL      personal recepcion pod ser amabl\n",
       "1    INSTALACIONES                    jor estanci enferm\n",
       "2         PERSONAL                              atencion\n",
       "3         PERSONAL                           informacion\n",
       "4           COMIDA             com vegetarian vegan carn\n",
       "..             ...                                   ...\n",
       "711       PERSONAL                         amabil respet\n",
       "712  INSTALACIONES  sal esper discret moderniz mobiliari\n",
       "713         ESPERA                               pumtual\n",
       "714       PERSONAL                           informacion\n",
       "715         ESPERA                           tiemp esper\n",
       "\n",
       "[716 rows x 2 columns]"
      ]
     },
     "execution_count": 29,
     "metadata": {},
     "output_type": "execute_result"
    }
   ],
   "source": [
    "make_csv(test_data_x_Pipe,test_data_y_Pipe,\"test_Pipe.csv\",\"Label_predictor\")"
   ]
  },
  {
   "cell_type": "code",
   "execution_count": 30,
   "metadata": {},
   "outputs": [],
   "source": [
    "\n",
    "import pandas as pd\n",
    "import boto3\n",
    "import sagemaker"
   ]
  },
  {
   "cell_type": "code",
   "execution_count": 31,
   "metadata": {},
   "outputs": [],
   "source": [
    "sagemaker_session = sagemaker.Session()\n",
    "role = sagemaker.get_execution_role()\n",
    "\n",
    "# create an S3 bucket\n",
    "bucket = sagemaker_session.default_bucket()"
   ]
  },
  {
   "cell_type": "code",
   "execution_count": 32,
   "metadata": {},
   "outputs": [
    {
     "name": "stdout",
     "output_type": "stream",
     "text": [
      "s3://sagemaker-eu-central-1-915492785002/Label_predictor/train_Pipe.csv\n"
     ]
    }
   ],
   "source": [
    "\n",
    "# set prefix, a descriptive name for a directory  \n",
    "prefix = 'Label_predictor'\n",
    "\n",
    "# upload all data to S3 \n",
    "\n",
    "training = sagemaker_session.upload_data(os.path.join(data_dir,\"train_Pipe.csv\"),bucket=bucket, key_prefix=prefix)\n",
    "testing = sagemaker_session.upload_data(os.path.join(data_dir,\"test_Pipe.csv\"),bucket=bucket, key_prefix=prefix)\n",
    "\n",
    "print(training)"
   ]
  },
  {
   "cell_type": "code",
   "execution_count": 33,
   "metadata": {
    "scrolled": true
   },
   "outputs": [
    {
     "name": "stdout",
     "output_type": "stream",
     "text": [
      "Label_predictor/clencomments.csv\n",
      "Label_predictor/ngrams.xlsx\n",
      "Label_predictor/test.csv\n",
      "Label_predictor/test_Pipe.csv\n",
      "Label_predictor/train.csv\n",
      "Label_predictor/train2.csv\n",
      "Label_predictor/train_Pipe.csv\n",
      "Label_predictor/wordcount-CleanComment.xlsx\n",
      "Label_predictor/wordcount.xlsx\n",
      "plagiarism/train.csv\n",
      "sagemaker-scikit-learn-2020-10-13-14-46-07-889/debug-output/training_job_end.ts\n",
      "sagemaker-scikit-learn-2020-10-13-14-46-07-889/source/sourcedir.tar.gz\n",
      "sagemaker-scikit-learn-2020-10-13-15-45-53-769/source/sourcedir.tar.gz\n",
      "sagemaker-scikit-learn-2020-10-13-15-51-45-689/source/sourcedir.tar.gz\n",
      "sagemaker-scikit-learn-2020-10-13-15-55-24-411/source/sourcedir.tar.gz\n",
      "sagemaker-scikit-learn-2020-10-13-15-59-26-028/source/sourcedir.tar.gz\n",
      "sagemaker-scikit-learn-2020-10-13-16-16-33-182/source/sourcedir.tar.gz\n",
      "sagemaker-scikit-learn-2020-10-13-16-28-36-829/source/sourcedir.tar.gz\n",
      "sagemaker-scikit-learn-2020-10-13-16-34-23-451/source/sourcedir.tar.gz\n",
      "sagemaker-scikit-learn-2020-10-13-16-38-48-306/debug-output/training_job_end.ts\n",
      "sagemaker-scikit-learn-2020-10-13-16-38-48-306/output/model.tar.gz\n",
      "sagemaker-scikit-learn-2020-10-13-16-38-48-306/source/sourcedir.tar.gz\n",
      "sagemaker-scikit-learn-2020-10-13-16-45-50-597/source/sourcedir.tar.gz\n",
      "sagemaker-scikit-learn-2020-10-13-16-50-11-931/source/sourcedir.tar.gz\n",
      "sagemaker-scikit-learn-2020-10-13-16-56-20-347/debug-output/training_job_end.ts\n",
      "sagemaker-scikit-learn-2020-10-13-16-56-20-347/output/model.tar.gz\n",
      "sagemaker-scikit-learn-2020-10-13-16-56-20-347/source/sourcedir.tar.gz\n",
      "sagemaker-scikit-learn-2020-10-13-19-21-50-078/debug-output/training_job_end.ts\n",
      "sagemaker-scikit-learn-2020-10-13-19-21-50-078/output/model.tar.gz\n",
      "sagemaker-scikit-learn-2020-10-13-19-21-50-078/source/sourcedir.tar.gz\n",
      "sagemaker-scikit-learn-2020-10-13-19-31-54-668/debug-output/training_job_end.ts\n",
      "sagemaker-scikit-learn-2020-10-13-19-31-54-668/output/model.tar.gz\n",
      "sagemaker-scikit-learn-2020-10-13-19-31-54-668/source/sourcedir.tar.gz\n",
      "sagemaker-scikit-learn-2020-10-14-08-26-36-444/debug-output/training_job_end.ts\n",
      "sagemaker-scikit-learn-2020-10-14-08-26-36-444/output/model.tar.gz\n",
      "sagemaker-scikit-learn-2020-10-14-08-26-36-444/source/sourcedir.tar.gz\n",
      "sagemaker-scikit-learn-2020-10-14-11-00-41-567/source/sourcedir.tar.gz\n",
      "sagemaker-scikit-learn-2020-10-14-11-04-24-022/source/sourcedir.tar.gz\n",
      "sagemaker-scikit-learn-2020-10-14-11-05-14-920/source/sourcedir.tar.gz\n",
      "sagemaker-scikit-learn-2020-10-14-11-08-30-705/source/sourcedir.tar.gz\n",
      "sagemaker-scikit-learn-2020-10-14-11-51-00-596/source/sourcedir.tar.gz\n",
      "sagemaker-scikit-learn-2020-10-14-12-04-57-859/debug-output/training_job_end.ts\n",
      "sagemaker-scikit-learn-2020-10-14-12-04-57-859/output/model.tar.gz\n",
      "sagemaker-scikit-learn-2020-10-14-12-04-57-859/source/sourcedir.tar.gz\n",
      "sagemaker-scikit-learn-2020-10-14-16-25-47-772/debug-output/training_job_end.ts\n",
      "sagemaker-scikit-learn-2020-10-14-16-25-47-772/output/model.tar.gz\n",
      "sagemaker-scikit-learn-2020-10-14-16-25-47-772/source/sourcedir.tar.gz\n",
      "sagemaker-scikit-learn-2020-10-15-14-09-40-970/debug-output/training_job_end.ts\n",
      "sagemaker-scikit-learn-2020-10-15-14-09-40-970/output/model.tar.gz\n",
      "sagemaker-scikit-learn-2020-10-15-14-09-40-970/source/sourcedir.tar.gz\n",
      "sagemaker-scikit-learn-2020-10-15-14-42-59-178/source/sourcedir.tar.gz\n",
      "sagemaker-scikit-learn-2020-10-15-14-44-51-564/source/sourcedir.tar.gz\n",
      "sagemaker-scikit-learn-2020-10-15-14-50-04-966/debug-output/training_job_end.ts\n",
      "sagemaker-scikit-learn-2020-10-15-14-50-04-966/output/model.tar.gz\n",
      "sagemaker-scikit-learn-2020-10-15-14-50-04-966/source/sourcedir.tar.gz\n",
      "sagemaker-scikit-learn-2020-10-15-16-38-55-260/source/sourcedir.tar.gz\n",
      "sagemaker-scikit-learn-2020-10-15-16-45-44-638/debug-output/training_job_end.ts\n",
      "sagemaker-scikit-learn-2020-10-15-16-45-44-638/output/model.tar.gz\n",
      "sagemaker-scikit-learn-2020-10-15-16-45-44-638/source/sourcedir.tar.gz\n",
      "sagemaker-scikit-learn-2020-10-15-17-17-41-655/debug-output/training_job_end.ts\n",
      "sagemaker-scikit-learn-2020-10-15-17-17-41-655/output/model.tar.gz\n",
      "sagemaker-scikit-learn-2020-10-15-17-17-41-655/source/sourcedir.tar.gz\n",
      "sagemaker-scikit-learn-2020-10-16-09-55-26-032/debug-output/training_job_end.ts\n",
      "sagemaker-scikit-learn-2020-10-16-09-55-26-032/output/model.tar.gz\n",
      "sagemaker-scikit-learn-2020-10-16-09-55-26-032/source/sourcedir.tar.gz\n",
      "sagemaker-scikit-learn-2020-10-16-10-16-22-272/source/sourcedir.tar.gz\n",
      "sagemaker-scikit-learn-2020-10-16-10-21-38-375/source/sourcedir.tar.gz\n",
      "sagemaker-scikit-learn-2020-10-16-10-22-43-031/source/sourcedir.tar.gz\n",
      "sagemaker-scikit-learn-2020-10-16-10-26-12-061/debug-output/training_job_end.ts\n",
      "sagemaker-scikit-learn-2020-10-16-10-26-12-061/output/model.tar.gz\n",
      "sagemaker-scikit-learn-2020-10-16-10-26-12-061/source/sourcedir.tar.gz\n",
      "sagemaker-scikit-learn-2020-10-16-10-43-46-027/debug-output/training_job_end.ts\n",
      "sagemaker-scikit-learn-2020-10-16-10-43-46-027/output/model.tar.gz\n",
      "sagemaker-scikit-learn-2020-10-16-10-43-46-027/source/sourcedir.tar.gz\n",
      "sagemaker-scikit-learn-2020-10-16-11-00-24-590/debug-output/training_job_end.ts\n",
      "sagemaker-scikit-learn-2020-10-16-11-00-24-590/output/model.tar.gz\n",
      "sagemaker-scikit-learn-2020-10-16-11-00-24-590/source/sourcedir.tar.gz\n",
      "sagemaker-scikit-learn-2020-10-16-11-25-45-184/debug-output/training_job_end.ts\n",
      "sagemaker-scikit-learn-2020-10-16-11-25-45-184/output/model.tar.gz\n",
      "sagemaker-scikit-learn-2020-10-16-11-25-45-184/source/sourcedir.tar.gz\n",
      "sagemaker-scikit-learn-2020-10-16-16-49-40-194/debug-output/training_job_end.ts\n",
      "sagemaker-scikit-learn-2020-10-16-16-49-40-194/output/model.tar.gz\n",
      "sagemaker-scikit-learn-2020-10-16-16-49-40-194/source/sourcedir.tar.gz\n",
      "sagemaker-scikit-learn-2020-10-16-16-49-51-220/debug-output/training_job_end.ts\n",
      "sagemaker-scikit-learn-2020-10-16-16-49-51-220/output/model.tar.gz\n",
      "sagemaker-scikit-learn-2020-10-16-16-49-51-220/source/sourcedir.tar.gz\n",
      "sagemaker-scikit-learn-2020-10-16-17-06-55-774/debug-output/training_job_end.ts\n",
      "sagemaker-scikit-learn-2020-10-16-17-06-55-774/output/model.tar.gz\n",
      "sagemaker-scikit-learn-2020-10-16-17-06-55-774/source/sourcedir.tar.gz\n",
      "sagemaker-scikit-learn-2020-10-16-17-19-09-097/debug-output/training_job_end.ts\n",
      "sagemaker-scikit-learn-2020-10-16-17-19-09-097/output/model.tar.gz\n",
      "sagemaker-scikit-learn-2020-10-16-17-19-09-097/source/sourcedir.tar.gz\n",
      "sagemaker-scikit-learn-2020-10-16-17-29-56-442/debug-output/training_job_end.ts\n",
      "sagemaker-scikit-learn-2020-10-16-17-29-56-442/output/model.tar.gz\n",
      "sagemaker-scikit-learn-2020-10-16-17-29-56-442/source/sourcedir.tar.gz\n",
      "sagemaker-scikit-learn-2020-10-17-17-18-59-383/debug-output/training_job_end.ts\n",
      "sagemaker-scikit-learn-2020-10-17-17-18-59-383/output/model.tar.gz\n",
      "sagemaker-scikit-learn-2020-10-17-17-18-59-383/source/sourcedir.tar.gz\n",
      "sagemaker-scikit-learn-2020-10-18-18-04-28-717/debug-output/training_job_end.ts\n",
      "sagemaker-scikit-learn-2020-10-18-18-04-28-717/output/model.tar.gz\n",
      "sagemaker-scikit-learn-2020-10-18-18-04-28-717/source/sourcedir.tar.gz\n",
      "sagemaker-scikit-learn-2020-10-18-18-21-06-053/debug-output/training_job_end.ts\n",
      "sagemaker-scikit-learn-2020-10-18-18-21-06-053/output/model.tar.gz\n",
      "sagemaker-scikit-learn-2020-10-18-18-21-06-053/source/sourcedir.tar.gz\n",
      "sagemaker-scikit-learn-2020-10-19-09-32-01-589/debug-output/training_job_end.ts\n",
      "sagemaker-scikit-learn-2020-10-19-09-32-01-589/output/model.tar.gz\n",
      "sagemaker-scikit-learn-2020-10-19-09-32-01-589/source/sourcedir.tar.gz\n",
      "Test passed!\n"
     ]
    }
   ],
   "source": [
    "#Chekcthat data was succesfully uploaded to s3\n",
    "\n",
    "\n",
    "# confirm that data is in S3 bucket\n",
    "empty_check = []\n",
    "for obj in boto3.resource('s3').Bucket(bucket).objects.all():\n",
    "    empty_check.append(obj.key)\n",
    "    print(obj.key)\n",
    "\n",
    "assert len(empty_check) !=0, 'S3 bucket is empty.'\n",
    "print('Test passed!')"
   ]
  },
  {
   "cell_type": "markdown",
   "metadata": {},
   "source": [
    "Modify the predict_fn() in the script.py in order it takes as input_data a string of comments separated by commas and splits it to create a list of strings so the model can read it and return the predictions as a single string of predictions separated by commas.\n",
    "\n",
    "I need to test the prediction function to know what data type the models accepts to make predicitons. So I played with different formats and transformed the train and test data.\n",
    "\n",
    "For instance, the prediction function only accepts an array of strings. Since from Lamba I will send a single string I needed that the predict_fn did some preprocessing and transform that single string into an array of strings to make predictions. Then it will join each string with commas because the output must be sent to lambda, and lambda won't read arrays.\n",
    "\n",
    "See functions below:"
   ]
  },
  {
   "cell_type": "code",
   "execution_count": 36,
   "metadata": {},
   "outputs": [
    {
     "name": "stdout",
     "output_type": "stream",
     "text": [
      "\u001b[34mfrom\u001b[39;49;00m \u001b[04m\u001b[36m__future__\u001b[39;49;00m \u001b[34mimport\u001b[39;49;00m print_function\r\n",
      "\r\n",
      "\u001b[34mimport\u001b[39;49;00m \u001b[04m\u001b[36margparse\u001b[39;49;00m\r\n",
      "\u001b[34mimport\u001b[39;49;00m \u001b[04m\u001b[36mos\u001b[39;49;00m\r\n",
      "\u001b[34mimport\u001b[39;49;00m \u001b[04m\u001b[36mpandas\u001b[39;49;00m \u001b[34mas\u001b[39;49;00m \u001b[04m\u001b[36mpd\u001b[39;49;00m\r\n",
      "\u001b[34mimport\u001b[39;49;00m \u001b[04m\u001b[36msklearn\u001b[39;49;00m\r\n",
      "\u001b[34mfrom\u001b[39;49;00m \u001b[04m\u001b[36msklearn\u001b[39;49;00m\u001b[04m\u001b[36m.\u001b[39;49;00m\u001b[04m\u001b[36mpipeline\u001b[39;49;00m \u001b[34mimport\u001b[39;49;00m Pipeline\r\n",
      "\u001b[34mfrom\u001b[39;49;00m \u001b[04m\u001b[36msklearn\u001b[39;49;00m\u001b[04m\u001b[36m.\u001b[39;49;00m\u001b[04m\u001b[36mfeature_extraction\u001b[39;49;00m\u001b[04m\u001b[36m.\u001b[39;49;00m\u001b[04m\u001b[36mtext\u001b[39;49;00m \u001b[34mimport\u001b[39;49;00m TfidfVectorizer,CountVectorizer\r\n",
      "\r\n",
      "allow_pickle = \u001b[34mTrue\u001b[39;49;00m\r\n",
      "\u001b[34mfrom\u001b[39;49;00m \u001b[04m\u001b[36msklearn\u001b[39;49;00m\u001b[04m\u001b[36m.\u001b[39;49;00m\u001b[04m\u001b[36mexternals\u001b[39;49;00m \u001b[34mimport\u001b[39;49;00m joblib\r\n",
      "\r\n",
      "\u001b[37m## TODO: Import any additional libraries you need to define a model\u001b[39;49;00m\r\n",
      "\u001b[34mfrom\u001b[39;49;00m \u001b[04m\u001b[36msklearn\u001b[39;49;00m\u001b[04m\u001b[36m.\u001b[39;49;00m\u001b[04m\u001b[36msvm\u001b[39;49;00m \u001b[34mimport\u001b[39;49;00m LinearSVC\r\n",
      "\r\n",
      "\u001b[37m# Provided model load function\u001b[39;49;00m\r\n",
      "\u001b[34mdef\u001b[39;49;00m \u001b[32mmodel_fn\u001b[39;49;00m(model_dir):\r\n",
      "    \u001b[33m\"\"\"Load model from the model_dir. This is the same model that is saved\u001b[39;49;00m\r\n",
      "\u001b[33m    in the main if statement.\u001b[39;49;00m\r\n",
      "\u001b[33m    \"\"\"\u001b[39;49;00m\r\n",
      "    \u001b[36mprint\u001b[39;49;00m(\u001b[33m\"\u001b[39;49;00m\u001b[33mLoading model.\u001b[39;49;00m\u001b[33m\"\u001b[39;49;00m)\r\n",
      "    \r\n",
      "    \r\n",
      "    \u001b[37m# load using joblib\u001b[39;49;00m\r\n",
      "    model = joblib.load(os.path.join(model_dir, \u001b[33m\"\u001b[39;49;00m\u001b[33mmodel.joblib\u001b[39;49;00m\u001b[33m\"\u001b[39;49;00m))\r\n",
      "    \u001b[36mprint\u001b[39;49;00m(\u001b[33m\"\u001b[39;49;00m\u001b[33mDone loading model.\u001b[39;49;00m\u001b[33m\"\u001b[39;49;00m)\r\n",
      "    \r\n",
      "    \u001b[34mreturn\u001b[39;49;00m model\r\n",
      "\r\n",
      "\r\n",
      "\u001b[37m## TODO: Complete the main code\u001b[39;49;00m\r\n",
      "\u001b[34mif\u001b[39;49;00m \u001b[31m__name__\u001b[39;49;00m == \u001b[33m'\u001b[39;49;00m\u001b[33m__main__\u001b[39;49;00m\u001b[33m'\u001b[39;49;00m:\r\n",
      "    \r\n",
      "    \u001b[37m# All of the model parameters and training parameters are sent as arguments\u001b[39;49;00m\r\n",
      "    \u001b[37m# when this script is executed, during a training job\u001b[39;49;00m\r\n",
      "    \r\n",
      "    \u001b[37m# Here we set up an argument parser to easily access the parameters\u001b[39;49;00m\r\n",
      "    parser = argparse.ArgumentParser()\r\n",
      "\r\n",
      "    \u001b[37m# SageMaker parameters, like the directories for training data and saving models; set automatically\u001b[39;49;00m\r\n",
      "    \u001b[37m# Do not need to change\u001b[39;49;00m\r\n",
      "    parser.add_argument(\u001b[33m'\u001b[39;49;00m\u001b[33m--output-data-dir\u001b[39;49;00m\u001b[33m'\u001b[39;49;00m, \u001b[36mtype\u001b[39;49;00m=\u001b[36mstr\u001b[39;49;00m, default=os.environ[\u001b[33m'\u001b[39;49;00m\u001b[33mSM_OUTPUT_DATA_DIR\u001b[39;49;00m\u001b[33m'\u001b[39;49;00m])\r\n",
      "    parser.add_argument(\u001b[33m'\u001b[39;49;00m\u001b[33m--model-dir\u001b[39;49;00m\u001b[33m'\u001b[39;49;00m, \u001b[36mtype\u001b[39;49;00m=\u001b[36mstr\u001b[39;49;00m, default=os.environ[\u001b[33m'\u001b[39;49;00m\u001b[33mSM_MODEL_DIR\u001b[39;49;00m\u001b[33m'\u001b[39;49;00m])\r\n",
      "    parser.add_argument(\u001b[33m'\u001b[39;49;00m\u001b[33m--data-dir\u001b[39;49;00m\u001b[33m'\u001b[39;49;00m, \u001b[36mtype\u001b[39;49;00m=\u001b[36mstr\u001b[39;49;00m, default=os.environ[\u001b[33m'\u001b[39;49;00m\u001b[33mSM_CHANNEL_TRAIN\u001b[39;49;00m\u001b[33m'\u001b[39;49;00m])\r\n",
      "    \r\n",
      "    \u001b[37m## TODO: Add any additional arguments that you will need to pass into your model\u001b[39;49;00m\r\n",
      "    \r\n",
      "    \u001b[37m# args holds all passed-in arguments\u001b[39;49;00m\r\n",
      "    args = parser.parse_args()\r\n",
      "\r\n",
      "    \u001b[37m# Read in csv training file\u001b[39;49;00m\r\n",
      "    training_dir = args.data_dir\r\n",
      "    train_data = pd.read_csv(os.path.join(training_dir, \u001b[33m\"\u001b[39;49;00m\u001b[33mtrain_Pipe.csv\u001b[39;49;00m\u001b[33m\"\u001b[39;49;00m), header=\u001b[34mNone\u001b[39;49;00m, names=\u001b[34mNone\u001b[39;49;00m)\r\n",
      "    \r\n",
      "    \u001b[37m#Pipeline\u001b[39;49;00m\r\n",
      "    train_x = [\u001b[36mstr\u001b[39;49;00m(x) \u001b[34mfor\u001b[39;49;00m x \u001b[35min\u001b[39;49;00m pd.read_csv(os.path.join(training_dir, \u001b[33m\"\u001b[39;49;00m\u001b[33mtrain_Pipe.csv\u001b[39;49;00m\u001b[33m\"\u001b[39;49;00m), header=\u001b[34mNone\u001b[39;49;00m, names=\u001b[34mNone\u001b[39;49;00m)[\u001b[34m1\u001b[39;49;00m].values]\r\n",
      "    train_y = [\u001b[36mstr\u001b[39;49;00m(x) \u001b[34mfor\u001b[39;49;00m x \u001b[35min\u001b[39;49;00m pd.read_csv(os.path.join(training_dir, \u001b[33m\"\u001b[39;49;00m\u001b[33mtrain_Pipe.csv\u001b[39;49;00m\u001b[33m\"\u001b[39;49;00m), header=\u001b[34mNone\u001b[39;49;00m, names=\u001b[34mNone\u001b[39;49;00m)[\u001b[34m0\u001b[39;49;00m].values]\r\n",
      "    \r\n",
      "    \u001b[37m# NOPipeline\u001b[39;49;00m\r\n",
      "    \u001b[37m#train_x=pd.read_csv(os.path.join(training_dir, \"train.csv\"),header=None, names=None).loc[:,1:].values\u001b[39;49;00m\r\n",
      "    \u001b[37m#train_y=pd.read_csv(os.path.join(training_dir, \"train.csv\"),header=None, names=None).loc[:,0].values\u001b[39;49;00m\r\n",
      "    \r\n",
      "    \u001b[37m# Labels are in the first column. Unused\u001b[39;49;00m\r\n",
      "    \u001b[37m#train_y = train_data.iloc[:,0].values\u001b[39;49;00m\r\n",
      "    \u001b[37m#train_x = train_data.iloc[:,1].values\u001b[39;49;00m\r\n",
      "    \r\n",
      "\r\n",
      "    \r\n",
      "    \u001b[37m## --- Your code here --- ##\u001b[39;49;00m\r\n",
      "    \r\n",
      "\r\n",
      "    \u001b[37m## TODO: Define a model \u001b[39;49;00m\r\n",
      "    \r\n",
      "    model = Pipeline([(\u001b[33m\"\u001b[39;49;00m\u001b[33mtfidf\u001b[39;49;00m\u001b[33m\"\u001b[39;49;00m,TfidfVectorizer(vocabulary=\u001b[34mNone\u001b[39;49;00m,analyzer=\u001b[33m'\u001b[39;49;00m\u001b[33mword\u001b[39;49;00m\u001b[33m'\u001b[39;49;00m,ngram_range=(\u001b[34m1\u001b[39;49;00m,\u001b[34m1\u001b[39;49;00m))),(\u001b[33m\"\u001b[39;49;00m\u001b[33mclf\u001b[39;49;00m\u001b[33m\"\u001b[39;49;00m,LinearSVC())])\r\n",
      "    \u001b[37m#model = LinearSVC()\u001b[39;49;00m\r\n",
      "\r\n",
      "    \r\n",
      "    \r\n",
      "    \u001b[37m## TODO: Train the model\u001b[39;49;00m\r\n",
      "    model.fit(train_x, train_y)\r\n",
      "    \r\n",
      "    \r\n",
      "    \u001b[37m## --- End of your code  --- ##\u001b[39;49;00m\r\n",
      "    \r\n",
      "\r\n",
      "    \u001b[37m# Save the trained model\u001b[39;49;00m\r\n",
      "    joblib.dump(model, os.path.join(args.model_dir, \u001b[33m\"\u001b[39;49;00m\u001b[33mmodel.joblib\u001b[39;49;00m\u001b[33m\"\u001b[39;49;00m))\r\n",
      "    \r\n",
      "\r\n",
      "    \u001b[37m#Takes a string separated by commas and split it to create a list of strings.\u001b[39;49;00m\r\n",
      "\u001b[34mdef\u001b[39;49;00m \u001b[32mpredict_fn\u001b[39;49;00m(input_data, model):\r\n",
      "    input_data = input_data.split(\u001b[33m\"\u001b[39;49;00m\u001b[33m,\u001b[39;49;00m\u001b[33m\"\u001b[39;49;00m)\r\n",
      "    prediction = \u001b[33m\"\u001b[39;49;00m\u001b[33m,\u001b[39;49;00m\u001b[33m\"\u001b[39;49;00m.join(model.predict(input_data))\r\n",
      "    \u001b[34mreturn\u001b[39;49;00m prediction\r\n",
      "\r\n",
      "\r\n",
      "\u001b[34mdef\u001b[39;49;00m \u001b[32minput_fn\u001b[39;49;00m(input_data, content_type):\r\n",
      "    \u001b[34mreturn\u001b[39;49;00m input_data;\r\n",
      "\r\n",
      "\u001b[34mdef\u001b[39;49;00m \u001b[32moutput_fn\u001b[39;49;00m(prediction_output, accept):\r\n",
      "    \u001b[34mreturn\u001b[39;49;00m prediction_output;\r\n",
      "        \r\n"
     ]
    }
   ],
   "source": [
    "!pygmentize source_train/script.py"
   ]
  },
  {
   "cell_type": "code",
   "execution_count": 37,
   "metadata": {},
   "outputs": [
    {
     "name": "stderr",
     "output_type": "stream",
     "text": [
      "This is not the latest supported version. If you would like to use version 0.23-1, please add framework_version=0.23-1 to your constructor.\n"
     ]
    }
   ],
   "source": [
    "\n",
    "from sagemaker.sklearn.estimator import SKLearn\n",
    "\n",
    "# Create a Sklearn estimator\n",
    "estimator = SKLearn(entry_point=\"script.py\",\n",
    "                    source_dir=\"source_train\",\n",
    "                    role=role,\n",
    "                    train_instance_count=1,\n",
    "                    train_instance_type='ml.c5.xlarge',\n",
    "                   sagemaker_session=sagemaker_session)"
   ]
  },
  {
   "cell_type": "code",
   "execution_count": 38,
   "metadata": {},
   "outputs": [
    {
     "name": "stderr",
     "output_type": "stream",
     "text": [
      "'s3_input' class will be renamed to 'TrainingInput' in SageMaker Python SDK v2.\n",
      "'s3_input' class will be renamed to 'TrainingInput' in SageMaker Python SDK v2.\n"
     ]
    },
    {
     "name": "stdout",
     "output_type": "stream",
     "text": [
      "2020-10-20 10:01:03 Starting - Starting the training job...\n",
      "2020-10-20 10:01:04 Starting - Launching requested ML instances......\n",
      "2020-10-20 10:02:11 Starting - Preparing the instances for training...\n",
      "2020-10-20 10:02:55 Downloading - Downloading input data...\n",
      "2020-10-20 10:03:32 Training - Training image download completed. Training in progress.\n",
      "2020-10-20 10:03:32 Uploading - Uploading generated training model\n",
      "2020-10-20 10:03:32 Completed - Training job completed\n",
      "\u001b[34m2020-10-20 10:03:20,867 sagemaker-containers INFO     Imported framework sagemaker_sklearn_container.training\u001b[0m\n",
      "\u001b[34m2020-10-20 10:03:20,869 sagemaker-containers INFO     No GPUs detected (normal if no gpus installed)\u001b[0m\n",
      "\u001b[34m2020-10-20 10:03:20,878 sagemaker_sklearn_container.training INFO     Invoking user training script.\u001b[0m\n",
      "\u001b[34m2020-10-20 10:03:21,116 sagemaker-containers INFO     Module script does not provide a setup.py. \u001b[0m\n",
      "\u001b[34mGenerating setup.py\u001b[0m\n",
      "\u001b[34m2020-10-20 10:03:21,117 sagemaker-containers INFO     Generating setup.cfg\u001b[0m\n",
      "\u001b[34m2020-10-20 10:03:21,117 sagemaker-containers INFO     Generating MANIFEST.in\u001b[0m\n",
      "\u001b[34m2020-10-20 10:03:21,117 sagemaker-containers INFO     Installing module with the following command:\u001b[0m\n",
      "\u001b[34m/miniconda3/bin/python -m pip install . \u001b[0m\n",
      "\u001b[34mProcessing /opt/ml/code\u001b[0m\n",
      "\u001b[34mBuilding wheels for collected packages: script\n",
      "  Building wheel for script (setup.py): started\n",
      "  Building wheel for script (setup.py): finished with status 'done'\n",
      "  Created wheel for script: filename=script-1.0.0-py2.py3-none-any.whl size=9205 sha256=adbd32a40d1b9964e6883bb64e70f236ac6f52a58cf4706577a8cf6d34631967\n",
      "  Stored in directory: /tmp/pip-ephem-wheel-cache-2ot51d9d/wheels/35/24/16/37574d11bf9bde50616c67372a334f94fa8356bc7164af8ca3\u001b[0m\n",
      "\u001b[34mSuccessfully built script\u001b[0m\n",
      "\u001b[34mInstalling collected packages: script\u001b[0m\n",
      "\u001b[34mSuccessfully installed script-1.0.0\u001b[0m\n",
      "\u001b[34m2020-10-20 10:03:22,275 sagemaker-containers INFO     No GPUs detected (normal if no gpus installed)\u001b[0m\n",
      "\u001b[34m2020-10-20 10:03:22,284 sagemaker-containers INFO     Invoking user script\n",
      "\u001b[0m\n",
      "\u001b[34mTraining Env:\n",
      "\u001b[0m\n",
      "\u001b[34m{\n",
      "    \"additional_framework_parameters\": {},\n",
      "    \"channel_input_dirs\": {\n",
      "        \"test\": \"/opt/ml/input/data/test\",\n",
      "        \"train\": \"/opt/ml/input/data/train\"\n",
      "    },\n",
      "    \"current_host\": \"algo-1\",\n",
      "    \"framework_module\": \"sagemaker_sklearn_container.training:main\",\n",
      "    \"hosts\": [\n",
      "        \"algo-1\"\n",
      "    ],\n",
      "    \"hyperparameters\": {},\n",
      "    \"input_config_dir\": \"/opt/ml/input/config\",\n",
      "    \"input_data_config\": {\n",
      "        \"test\": {\n",
      "            \"TrainingInputMode\": \"File\",\n",
      "            \"S3DistributionType\": \"FullyReplicated\",\n",
      "            \"RecordWrapperType\": \"None\"\n",
      "        },\n",
      "        \"train\": {\n",
      "            \"TrainingInputMode\": \"File\",\n",
      "            \"S3DistributionType\": \"FullyReplicated\",\n",
      "            \"RecordWrapperType\": \"None\"\n",
      "        }\n",
      "    },\n",
      "    \"input_dir\": \"/opt/ml/input\",\n",
      "    \"is_master\": true,\n",
      "    \"job_name\": \"sagemaker-scikit-learn-2020-10-20-10-01-02-886\",\n",
      "    \"log_level\": 20,\n",
      "    \"master_hostname\": \"algo-1\",\n",
      "    \"model_dir\": \"/opt/ml/model\",\n",
      "    \"module_dir\": \"s3://sagemaker-eu-central-1-915492785002/sagemaker-scikit-learn-2020-10-20-10-01-02-886/source/sourcedir.tar.gz\",\n",
      "    \"module_name\": \"script\",\n",
      "    \"network_interface_name\": \"eth0\",\n",
      "    \"num_cpus\": 4,\n",
      "    \"num_gpus\": 0,\n",
      "    \"output_data_dir\": \"/opt/ml/output/data\",\n",
      "    \"output_dir\": \"/opt/ml/output\",\n",
      "    \"output_intermediate_dir\": \"/opt/ml/output/intermediate\",\n",
      "    \"resource_config\": {\n",
      "        \"current_host\": \"algo-1\",\n",
      "        \"hosts\": [\n",
      "            \"algo-1\"\n",
      "        ],\n",
      "        \"network_interface_name\": \"eth0\"\n",
      "    },\n",
      "    \"user_entry_point\": \"script.py\"\u001b[0m\n",
      "\u001b[34m}\n",
      "\u001b[0m\n",
      "\u001b[34mEnvironment variables:\n",
      "\u001b[0m\n",
      "\u001b[34mSM_HOSTS=[\"algo-1\"]\u001b[0m\n",
      "\u001b[34mSM_NETWORK_INTERFACE_NAME=eth0\u001b[0m\n",
      "\u001b[34mSM_HPS={}\u001b[0m\n",
      "\u001b[34mSM_USER_ENTRY_POINT=script.py\u001b[0m\n",
      "\u001b[34mSM_FRAMEWORK_PARAMS={}\u001b[0m\n",
      "\u001b[34mSM_RESOURCE_CONFIG={\"current_host\":\"algo-1\",\"hosts\":[\"algo-1\"],\"network_interface_name\":\"eth0\"}\u001b[0m\n",
      "\u001b[34mSM_INPUT_DATA_CONFIG={\"test\":{\"RecordWrapperType\":\"None\",\"S3DistributionType\":\"FullyReplicated\",\"TrainingInputMode\":\"File\"},\"train\":{\"RecordWrapperType\":\"None\",\"S3DistributionType\":\"FullyReplicated\",\"TrainingInputMode\":\"File\"}}\u001b[0m\n",
      "\u001b[34mSM_OUTPUT_DATA_DIR=/opt/ml/output/data\u001b[0m\n",
      "\u001b[34mSM_CHANNELS=[\"test\",\"train\"]\u001b[0m\n",
      "\u001b[34mSM_CURRENT_HOST=algo-1\u001b[0m\n",
      "\u001b[34mSM_MODULE_NAME=script\u001b[0m\n",
      "\u001b[34mSM_LOG_LEVEL=20\u001b[0m\n",
      "\u001b[34mSM_FRAMEWORK_MODULE=sagemaker_sklearn_container.training:main\u001b[0m\n",
      "\u001b[34mSM_INPUT_DIR=/opt/ml/input\u001b[0m\n",
      "\u001b[34mSM_INPUT_CONFIG_DIR=/opt/ml/input/config\u001b[0m\n",
      "\u001b[34mSM_OUTPUT_DIR=/opt/ml/output\u001b[0m\n",
      "\u001b[34mSM_NUM_CPUS=4\u001b[0m\n",
      "\u001b[34mSM_NUM_GPUS=0\u001b[0m\n",
      "\u001b[34mSM_MODEL_DIR=/opt/ml/model\u001b[0m\n",
      "\u001b[34mSM_MODULE_DIR=s3://sagemaker-eu-central-1-915492785002/sagemaker-scikit-learn-2020-10-20-10-01-02-886/source/sourcedir.tar.gz\u001b[0m\n",
      "\u001b[34mSM_TRAINING_ENV={\"additional_framework_parameters\":{},\"channel_input_dirs\":{\"test\":\"/opt/ml/input/data/test\",\"train\":\"/opt/ml/input/data/train\"},\"current_host\":\"algo-1\",\"framework_module\":\"sagemaker_sklearn_container.training:main\",\"hosts\":[\"algo-1\"],\"hyperparameters\":{},\"input_config_dir\":\"/opt/ml/input/config\",\"input_data_config\":{\"test\":{\"RecordWrapperType\":\"None\",\"S3DistributionType\":\"FullyReplicated\",\"TrainingInputMode\":\"File\"},\"train\":{\"RecordWrapperType\":\"None\",\"S3DistributionType\":\"FullyReplicated\",\"TrainingInputMode\":\"File\"}},\"input_dir\":\"/opt/ml/input\",\"is_master\":true,\"job_name\":\"sagemaker-scikit-learn-2020-10-20-10-01-02-886\",\"log_level\":20,\"master_hostname\":\"algo-1\",\"model_dir\":\"/opt/ml/model\",\"module_dir\":\"s3://sagemaker-eu-central-1-915492785002/sagemaker-scikit-learn-2020-10-20-10-01-02-886/source/sourcedir.tar.gz\",\"module_name\":\"script\",\"network_interface_name\":\"eth0\",\"num_cpus\":4,\"num_gpus\":0,\"output_data_dir\":\"/opt/ml/output/data\",\"output_dir\":\"/opt/ml/output\",\"output_intermediate_dir\":\"/opt/ml/output/intermediate\",\"resource_config\":{\"current_host\":\"algo-1\",\"hosts\":[\"algo-1\"],\"network_interface_name\":\"eth0\"},\"user_entry_point\":\"script.py\"}\u001b[0m\n",
      "\u001b[34mSM_USER_ARGS=[]\u001b[0m\n",
      "\u001b[34mSM_OUTPUT_INTERMEDIATE_DIR=/opt/ml/output/intermediate\u001b[0m\n",
      "\u001b[34mSM_CHANNEL_TEST=/opt/ml/input/data/test\u001b[0m\n",
      "\u001b[34mSM_CHANNEL_TRAIN=/opt/ml/input/data/train\u001b[0m\n",
      "\u001b[34mPYTHONPATH=/miniconda3/bin:/miniconda3/lib/python37.zip:/miniconda3/lib/python3.7:/miniconda3/lib/python3.7/lib-dynload:/miniconda3/lib/python3.7/site-packages\n",
      "\u001b[0m\n",
      "\u001b[34mInvoking script with the following command:\n",
      "\u001b[0m\n",
      "\u001b[34m/miniconda3/bin/python -m script\n",
      "\n",
      "\u001b[0m\n",
      "\u001b[34m/miniconda3/lib/python3.7/site-packages/sklearn/externals/joblib/externals/cloudpickle/cloudpickle.py:47: DeprecationWarning: the imp module is deprecated in favour of importlib; see the module's documentation for alternative uses\n",
      "  import imp\u001b[0m\n",
      "\u001b[34m2020-10-20 10:03:23,500 sagemaker-containers INFO     Reporting training SUCCESS\u001b[0m\n",
      "Training seconds: 37\n",
      "Billable seconds: 37\n",
      "CPU times: user 368 ms, sys: 8.16 ms, total: 376 ms\n",
      "Wall time: 2min 41s\n"
     ]
    }
   ],
   "source": [
    "%%time\n",
    "\n",
    "# Train your estimator on S3 training data,\n",
    "estimator.fit({'train': training,'test': testing})"
   ]
  },
  {
   "cell_type": "code",
   "execution_count": 39,
   "metadata": {},
   "outputs": [
    {
     "name": "stderr",
     "output_type": "stream",
     "text": [
      "Parameter image will be renamed to image_uri in SageMaker Python SDK v2.\n"
     ]
    },
    {
     "name": "stdout",
     "output_type": "stream",
     "text": [
      "-----------------!CPU times: user 293 ms, sys: 12.1 ms, total: 306 ms\n",
      "Wall time: 8min 32s\n"
     ]
    }
   ],
   "source": [
    "\n",
    "%%time\n",
    "\n",
    "# deploy your model to create a predictor\n",
    "predictor = estimator.deploy(initial_instance_count=1, instance_type='ml.t2.medium') # 'ml.c5.large'  ml.t2.medium  ml.m4.xlarge"
   ]
  },
  {
   "cell_type": "code",
   "execution_count": 40,
   "metadata": {},
   "outputs": [
    {
     "data": {
      "text/plain": [
       "'sagemaker-scikit-learn-2020-10-20-10-01-02-886'"
      ]
     },
     "execution_count": 40,
     "metadata": {},
     "output_type": "execute_result"
    }
   ],
   "source": [
    "# We need to copy this endpoint name to our lambda function\n",
    "predictor.endpoint"
   ]
  },
  {
   "cell_type": "markdown",
   "metadata": {},
   "source": [
    "### Create a Lambda Function\n",
    "This Lambda function will be executed whenever our public API has data sent to it. When it is executed it will receive the data, perform any sort of processing that is required, send the data (the review) to the SageMaker endpoint we've created and then return the result.\n",
    "\n",
    "Take in mind that the lambda functions may need some additional layers containing the following packages:\n",
    "\n",
    "f3sspec\t\n",
    "\n",
    "Pandas\n",
    "\n",
    "Numpy\n",
    "\n",
    "Spacy\n",
    "\n",
    "thinc\n",
    "\n",
    "cataogue\n",
    "\n",
    "nltk\n",
    "\n",
    "These zip formatted packages you may find them in this project."
   ]
  },
  {
   "cell_type": "code",
   "execution_count": 41,
   "metadata": {},
   "outputs": [],
   "source": [
    "import json\n",
    "import boto3\n",
    "import re\n",
    "import pandas as pd\n",
    "import os\n",
    "import numpy as np\n",
    "import io\n",
    "import requests\n",
    "import nltk\n",
    "from nltk.stem.snowball import SnowballStemmer\n",
    "import unicodedata\n",
    " \n",
    "\n",
    "all_stopword = ['de', 'la', 'que', 'el', 'en', 'y', 'a', 'los', 'del', 'se', 'las', 'por', 'un', 'para', 'con', 'no', 'una', 'su', 'al', 'lo', 'como','mas', 'más', 'pero', 'sus', 'le', 'ya', 'o', 'este', 'sí', 'porque', 'esta', 'entre', 'cuando', 'muy', 'sin', 'sobre', 'también', 'me', 'hasta', 'hay', 'donde', 'quien', 'desde', 'todo', 'nos', 'durante', 'todos', 'uno', 'les', 'ni', 'contra', 'otros', 'ese', 'eso', 'ante', 'ellos', 'e', 'esto', 'mí', 'antes', 'algunos', 'qué', 'unos', 'yo', 'otro', 'otras', 'otra', 'él', 'tanto', 'esa', 'estos', 'mucho', 'quienes', 'nada', 'muchos', 'cual', 'poco', 'ella', 'estar', 'estas', 'algunas', 'algo', 'nosotros', 'mi', 'mis', 'tú', 'te', 'ti', 'tu', 'tus', 'ellas', 'nosotras', 'vosotros', 'vosotras', 'os', 'mío', 'mía', 'míos', 'mías', 'tuyo', 'tuya', 'tuyos', 'tuyas', 'suyo', 'suya', 'suyos', 'suyas', 'nuestro', 'nuestra', 'nuestros', 'nuestras', 'vuestro', 'vuestra', 'vuestros', 'vuestras', 'esos', 'esas', 'estoy', 'estás', 'está', 'estamos', 'estáis', 'están', 'esté', 'estés', 'estemos', 'estéis', 'estén', 'estaré', 'estarás', 'estará', 'estaremos', 'estaréis', 'estarán', 'estaría', 'estarías', 'estaríamos', 'estaríais', 'estarían', 'estaba', 'estabas', 'estábamos', 'estabais', 'estaban', 'estuve', 'estuviste', 'estuvo', 'estuvimos', 'estuvisteis', 'estuvieron', 'estuviera', 'estuvieras', 'estuviéramos', 'estuvierais', 'estuvieran', 'estuviese', 'estuvieses', 'estuviésemos', 'estuvieseis', 'estuviesen', 'estando', 'estado', 'estada', 'estados', 'estadas', 'estad', 'he', 'has', 'ha', 'hemos', 'habéis', 'han', 'haya', 'hayas', 'hayamos', 'hayáis', 'hayan', 'habré', 'habrás', 'habrá', 'habremos', 'habréis', 'habrán', 'habría', 'habrías', 'habríamos', 'habríais', 'habrían', 'había', 'habías', 'habíamos', 'habíais', 'habían', 'hube', 'hubiste', 'hubo', 'hubimos', 'hubisteis', 'hubieron', 'hubiera', 'hubieras', 'hubiéramos', 'hubierais', 'hubieran', 'hubiese', 'hubieses', 'hubiésemos', 'hubieseis', 'hubiesen', 'habiendo', 'habido', 'habida', 'habidos', 'habidas', 'soy', 'eres', 'es', 'somos', 'sois', 'son', 'sea', 'seas', 'seamos', 'seáis', 'sean', 'seré', 'serás', 'será', 'seremos', 'seréis', 'serán', 'sería', 'serías', 'seríamos', 'seríais', 'serían', 'era', 'eras', 'éramos', 'erais', 'eran', 'fui', 'fuiste', 'fue', 'fuimos', 'fuisteis', 'fueron', 'fuera', 'fueras', 'fuéramos', 'fuerais', 'fueran', 'fuese', 'fueses', 'fuésemos', 'fueseis', 'fuesen', 'sintiendo', 'sentido', 'sentida', 'sentidos', 'sentidas', 'siente', 'sentid', 'tengo', 'tienes', 'tiene', 'tenemos', 'tenéis', 'tienen', 'tenga', 'tengas', 'tengamos', 'tengáis', 'tengan', 'tendré', 'tendrás', 'tendrá', 'tendremos', 'tendréis', 'tendrán', 'tendría', 'tendrías', 'tendríamos', 'tendríais', 'tendrían', 'tenía', 'tenías', 'teníamos', 'teníais', 'tenían', 'tuve', 'tuviste', 'tuvo', 'tuvimos', 'tuvisteis', 'tuvieron', 'tuviera', 'tuvieras', 'tuviéramos', 'tuvierais', 'tuvieran', 'tuviese', 'tuvieses', 'tuviésemos', 'tuvieseis', 'tuviesen', 'teniendo', 'tenido', 'tenida', 'tenidos', 'tenidas', 'tened', '!', '\"', '#', '$', '%', '&', \"'\", '(', ')', '*', '+', ',', '-', '.', '/', ':', ';', '<', '=', '>', '?', '@', '[', '\\\\', ']', '^', '_', '`', '{', '|', '}', '~']\n",
    "\n",
    "def removeStopwords(words):\n",
    "    important_words=[]\n",
    "    seperator = ' '\n",
    "    for word in words.split():\n",
    "        if word not in all_stopword:\n",
    "            important_words.append(word)\n",
    "    return seperator.join(important_words)\n",
    "\n",
    "def strip_accents(s):\n",
    "    return ''.join(c for c in unicodedata.normalize('NFD', s)\n",
    "                  if unicodedata.category(c) != 'Mn')\n",
    "\n",
    "def lemmatizacion(comment): \n",
    "    phrase= []\n",
    "    for word in comment.split():\n",
    "        doc = nlp(word)\n",
    "        \n",
    "        phrase.append(doc[0].lemma_)\n",
    "    return \" \".join(phrase)\n",
    "    \n",
    "#  This function takes a string that contains multiple comments separated by commas,\n",
    "#preprocess each comment and returns a list of strings.\n",
    "def comment_processing_csv(string):\n",
    "    \"\"\" Transform string text to a format that the model can read \"\"\"\n",
    "    corpus = []\n",
    "    ps = SnowballStemmer(\"spanish\")\n",
    "    for comment  in string.split(\",\"):\n",
    "        review = comment.lower()\n",
    "        #review=\" \".join([lemmatizacion(word) for word in review.split()])\n",
    "        review=\" \".join([ps.stem(word) for word in review.split()])\n",
    "        review = strip_accents(review)\n",
    "        review = re.sub('[^a-zA-Z]', ' ', comment)\n",
    " \n",
    "        review = review.split()\n",
    "        review = [ps.stem(word) for word in review]\n",
    "        review = ' '.join(review)\n",
    "        corpus.append(review)\n",
    "    return \",\".join(corpus)\n",
    "\n",
    "prediction_labels = {\"COMIDA\":0.0,\n",
    "\"ESPERA\":1.0,\"FUERA\":2.0,\"INSTALACIONES\":3.0,\"LIMPIEZA\":4.0,\"NIÑOS\":5.0,\"PERSONAL\":6.0,\"PRECIOS\":7.0,\"PROGRAMACIÓN\":8.0}\n",
    "\n",
    "\n",
    "def lambda_handler(event, context):\n",
    "\n",
    "    comment = event[\"body\"]\n",
    "    \n",
    "    # We process the data from our Webapp which is a single string with comments.\n",
    "    string= comment_processing_csv(comment)\n",
    "    \n",
    "    \n",
    "    runtime = boto3.Session().client('sagemaker-runtime')\n",
    "\n",
    "    # Now we use the SageMaker runtime to invoke our endpoint, sending the string we were given\n",
    "    \n",
    "    response = runtime.invoke_endpoint(EndpointName = \"sagemaker-scikit-learn-2020-10-20-10-01-02-886\", #The name of the endpoint we created\n",
    "                                       ContentType = 'application/json', # The data format that is expected.\n",
    "                                       Body =string.encode(\"utf-8\")) # The actual review\n",
    "\n",
    "    # The response is an HTTP response whose body contains the result of our inference.\n",
    "    # Returns a string with prediction labels separated by commas.\n",
    "    result = response['Body'].read().decode('utf-8')\n",
    "    \n",
    "\n",
    "    return {\n",
    "        'statusCode' : 200,\n",
    "        'headers' : { 'Content-Type' : 'text/plain', 'Access-Control-Allow-Origin' : '*' },\n",
    "        'body' : result\n",
    "    }"
   ]
  },
  {
   "cell_type": "markdown",
   "metadata": {},
   "source": [
    "### Setting up API Gateway\n",
    "Now that our Lambda function is set up, it is time to create a new API using API Gateway that will trigger the Lambda function we have just created.\n",
    "Using AWS Console, navigate to Amazon API Gateway and then click on Get started.\n",
    "On the next page, make sure that New API is selected and give the new api a name, for example, comment_predictor. Then, click on Create API.\n",
    "Now we have created an API, however it doesn't currently do anything. What we want it to do is to trigger the Lambda function that we created earlier.\n",
    "Select the Actions dropdown menu and click Create Method. A new blank method will be created, select its dropdown menu and select POST, then click on the check mark beside it.\n",
    "For the integration point, make sure that Lambda Function is selected and click on the Use Lambda Proxy integration. This option makes sure that the data that is sent to the API is then sent directly to the Lambda function with no processing. It also means that the return value must be a proper response object as it will also not be processed by API Gateway.\n",
    "Type the name of the Lambda function you created earlier into the Lambda Function text entry box and then click on Save. Click on OK in the pop-up box that then appears, giving permission to API Gateway to invoke the Lambda function you created.\n",
    "The last step in creating the API Gateway is to select the Actions dropdown and click on Deploy API. You will need to create a new Deployment stage and name it anything you like, for example prod.\n",
    "You have now successfully set up a public API to access your SageMaker model. Make sure to copy or write down the URL provided to invoke your newly created public API as this will be needed in the next step. This URL can be found at the top of the page, highlighted in blue next to the text Invoke URL."
   ]
  },
  {
   "cell_type": "markdown",
   "metadata": {},
   "source": [
    "### Deploying our web app\n",
    "Now that we have a publicly available API, we can start using it in a web app. For our purposes, we have provided a simple static html file which can make use of the public api you created earlier.\n",
    "In the website folder there should be a file called index.html. Download the file to your computer and open that file up in a text editor of your choice. There should be a line which contains **REPLACE WITH PUBLIC API URL**. Replace this string with the url that you wrote down in the last step and then save the file.\n",
    "Now, if you open index.html on your local computer, your browser will behave as a local web server and you can use the provided site to interact with your SageMaker model."
   ]
  },
  {
   "cell_type": "code",
   "execution_count": 42,
   "metadata": {},
   "outputs": [],
   "source": [
    "test_data_Pipe = pd.read_csv(os.path.join(data_dir, \"test_Pipe.csv\"), header=None, names=None)\n",
    "\n",
    "test_data_y_pipe= test_data_Pipe[0]\n",
    "test_data_x_pipe= test_data_Pipe[1]"
   ]
  },
  {
   "cell_type": "markdown",
   "metadata": {},
   "source": [
    " This function takes a string that contains multiple comments separated by commas, preprocess each comment and returns a list of strings.\n"
   ]
  },
  {
   "cell_type": "code",
   "execution_count": 44,
   "metadata": {},
   "outputs": [],
   "source": [
    "def comment_processing_csv(string):\n",
    "    \"\"\" Transform string text to a format that the model can read.\n",
    "    # This function takes a string that contains multiple comments separated by commas, \n",
    "    preprocess each comment and returns a list of strings.\n",
    "    \"\"\"\n",
    "    corpus = []\n",
    "    ps = SnowballStemmer(\"spanish\")\n",
    "    for comment  in string.split(\",\"):\n",
    "        review = comment.lower()\n",
    "  \n",
    "        review=\" \".join([ps.stem(word) for word in review.split()])\n",
    "        review = strip_accents(review)\n",
    "        review = re.sub('[^a-zA-Z]', ' ', comment)\n",
    "\n",
    "        review = review.split()\n",
    "        review = [ps.stem(word) for word in review]\n",
    "        review = ' '.join(review)\n",
    "        corpus.append(review)\n",
    "    return \",\".join(corpus)\n",
    "\n",
    "string = comment_processing_csv(\"Bajar el precio de los productos del bar o acero men�s mas economicos.,ten�a cita a las 4 y 45 y a las 5 y 20 todavia no me abuela atendido??,Muy contentos con la atenci�n de los profesionales que me han atendido,Servicio de oftalmolog�a. mal educados y las molesran Cuando preguntas\")\n"
   ]
  },
  {
   "cell_type": "code",
   "execution_count": 45,
   "metadata": {},
   "outputs": [
    {
     "data": {
      "text/plain": [
       "'baj el preci de los product del bar o acer men s mas econom,ten a cit a las y y a las y todavi no me abuel atend,muy content con la atenci n de los profesional que me han atend,servici de oftalmolog a mal educ y las molesr cuand pregunt'"
      ]
     },
     "execution_count": 45,
     "metadata": {},
     "output_type": "execute_result"
    }
   ],
   "source": [
    "string"
   ]
  },
  {
   "cell_type": "markdown",
   "metadata": {},
   "source": [
    "Testing the model before using the lambda function."
   ]
  },
  {
   "cell_type": "code",
   "execution_count": 46,
   "metadata": {},
   "outputs": [],
   "source": [
    "runtime = boto3.Session().client('sagemaker-runtime')\n"
   ]
  },
  {
   "cell_type": "code",
   "execution_count": 48,
   "metadata": {},
   "outputs": [],
   "source": [
    "response = runtime.invoke_endpoint(EndpointName = \"sagemaker-scikit-learn-2020-10-20-10-01-02-886\", # The name of the endpoint we created\n",
    "                                       ContentType = \"text/csv\",\n",
    "                                   Body =string.encode(\"utf-8\")) # The actual review"
   ]
  },
  {
   "cell_type": "code",
   "execution_count": 49,
   "metadata": {},
   "outputs": [
    {
     "data": {
      "text/plain": [
       "'PRECIOS,PROGRAMACIÓN,PERSONAL,PERSONAL'"
      ]
     },
     "execution_count": 49,
     "metadata": {},
     "output_type": "execute_result"
    }
   ],
   "source": [
    "result = response['Body'].read().decode('utf-8')\n",
    "result"
   ]
  }
 ],
 "metadata": {
  "kernelspec": {
   "display_name": "conda_python3",
   "language": "python",
   "name": "conda_python3"
  },
  "language_info": {
   "codemirror_mode": {
    "name": "ipython",
    "version": 3
   },
   "file_extension": ".py",
   "mimetype": "text/x-python",
   "name": "python",
   "nbconvert_exporter": "python",
   "pygments_lexer": "ipython3",
   "version": "3.6.10"
  }
 },
 "nbformat": 4,
 "nbformat_minor": 4
}
